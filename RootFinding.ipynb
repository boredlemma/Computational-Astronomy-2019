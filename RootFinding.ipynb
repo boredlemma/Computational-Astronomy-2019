{
 "cells": [
  {
   "cell_type": "code",
   "execution_count": 12,
   "metadata": {
    "collapsed": true
   },
   "outputs": [],
   "source": [
    "import numpy as np\n",
    "import matplotlib.pyplot as plt"
   ]
  },
  {
   "cell_type": "markdown",
   "metadata": {},
   "source": [
    "## Bisection method\n",
    "#### Step 1: Define c = (a+b)/2\n",
    "#### Step 2: If |b − c| ≤ ε, accept c as our root, and then stop.\n",
    "#### Step 3: If |b − c| > ε, then compare the sign of f(c) to that of f(a) and f(b). \n",
    "####  &nbsp;&nbsp;&nbsp;&nbsp; &nbsp;&nbsp;&nbsp;     &nbsp;&nbsp;     If f(b)·f(c) ≤ 0, then replace a with c; otherwise, replace b with c. \n",
    "####    &nbsp;&nbsp;&nbsp;&nbsp; &nbsp;&nbsp;&nbsp;   &nbsp;&nbsp;      Return to Step 1.\n"
   ]
  },
  {
   "cell_type": "code",
   "execution_count": 13,
   "metadata": {
    "collapsed": true
   },
   "outputs": [],
   "source": [
    "def func(x):\n",
    "    f=pow(x,6) - x - 1.\n",
    "    return f"
   ]
  },
  {
   "cell_type": "code",
   "execution_count": 14,
   "metadata": {},
   "outputs": [
    {
     "name": "stdout",
     "output_type": "stream",
     "text": [
      "loop= 1  a=1.00000  b=2.00000  c=1.50000  err=5.00000e-01\n",
      "loop= 2  a=1.00000  b=1.50000  c=1.25000  err=2.50000e-01\n",
      "loop= 3  a=1.00000  b=1.25000  c=1.12500  err=1.25000e-01\n",
      "loop= 4  a=1.12500  b=1.25000  c=1.18750  err=6.25000e-02\n",
      "loop= 5  a=1.12500  b=1.18750  c=1.15625  err=3.12500e-02\n",
      "loop= 6  a=1.12500  b=1.15625  c=1.14062  err=1.56250e-02\n",
      "loop= 7  a=1.12500  b=1.14062  c=1.13281  err=7.81250e-03\n",
      "loop= 8  a=1.13281  b=1.14062  c=1.13672  err=3.90625e-03\n",
      "loop= 9  a=1.13281  b=1.13672  c=1.13477  err=1.95312e-03\n",
      "loop=10  a=1.13281  b=1.13477  c=1.13379  err=9.76562e-04\n",
      "loop=11  a=1.13379  b=1.13477  c=1.13428  err=4.88281e-04\n",
      "loop=12  a=1.13428  b=1.13477  c=1.13452  err=2.44141e-04\n",
      "loop=13  a=1.13452  b=1.13477  c=1.13464  err=1.22070e-04\n",
      "loop=14  a=1.13464  b=1.13477  c=1.13470  err=6.10352e-05\n",
      "loop=15  a=1.13470  b=1.13477  c=1.13474  err=3.05176e-05\n",
      "loop=16  a=1.13470  b=1.13474  c=1.13472  err=1.52588e-05\n",
      "loop=17  a=1.13472  b=1.13474  c=1.13473  err=7.62939e-06\n"
     ]
    }
   ],
   "source": [
    "eps=1.e-5\n",
    "\n",
    "a,b,c=1,2,0\n",
    "\n",
    "err=np.abs(c-a)\n",
    "loop=0\n",
    "while (err >=eps):\n",
    "    loop += 1\n",
    "    if(loop > 100): break\n",
    "    fa=func(a)\n",
    "    fb=func(b)\n",
    "    c=0.5*(a+b)\n",
    "    err=abs(c-a)\n",
    "    fc=func(c)\n",
    "    print (\"loop={:2d}  a={:.5f}  b={:.5f}  c={:.5f}  err={:.5e}\".format(loop,a,b,c,err))\n",
    "    if(fa*fc <= 0.):\n",
    "        b=c\n",
    "    else:\n",
    "        a=c"
   ]
  },
  {
   "cell_type": "markdown",
   "metadata": {},
   "source": [
    "## Newton-Raphson Method\n",
    "$$ x_{n+1} =x_n - \\frac{f(x_n)}{f^\\prime(x_n)}$$"
   ]
  },
  {
   "cell_type": "code",
   "execution_count": 15,
   "metadata": {
    "collapsed": true
   },
   "outputs": [],
   "source": [
    "def NR(x):\n",
    "    f=pow(x,6)-x-1\n",
    "    df=6*pow(x,5)-1\n",
    "    return f,df"
   ]
  },
  {
   "cell_type": "code",
   "execution_count": 16,
   "metadata": {},
   "outputs": [
    {
     "name": "stdout",
     "output_type": "stream",
     "text": [
      "loop= 1  f=8.89062  df=44.56250  err=1.99509e-01\n",
      "loop= 2  f=2.53726  df=21.31967  err=1.19010e-01\n",
      "loop= 3  f=0.53846  df=12.81287  err=4.20248e-02\n",
      "loop= 4  f=0.04924  df=10.52493  err=4.67797e-03\n",
      "loop= 5  f=0.00055  df=10.29029  err=5.34799e-05\n",
      "loop= 6  f=0.00000  df=10.28763  err=6.91470e-09\n"
     ]
    }
   ],
   "source": [
    "TOL=1.e-5\n",
    "x=1.5\n",
    "err=1\n",
    "loop=0\n",
    "while( err > TOL):\n",
    "    loop += 1\n",
    "    if(loop > 100): break\n",
    "    f,df=NR(x)\n",
    "    err=abs(f/df)\n",
    "    x = x - f/df\n",
    "    print (\"loop={:2d}  f={:.5f}  df={:.5f}  err={:.5e}\".format(loop,f,df,err))"
   ]
  },
  {
   "cell_type": "markdown",
   "metadata": {},
   "source": [
    "## Secant Method\n",
    "\n",
    "#### Step 1:  assign x1 and x2\n",
    "#### Step 2:  calculate f1 = F(x1), f2 = F(x2)\n",
    "#### Step 3:  calculate x3 = x2 – f2*(x2−x1)/(f2 − f1)\n",
    "#### Step 4:  if |x3 − x1| < TOL, stop   x3 is a solution.\n",
    "#### Step 5:  if |x3 − x1| > TOL, \n",
    "####  &nbsp;&nbsp;&nbsp;&nbsp; &nbsp;&nbsp;&nbsp; &nbsp;&nbsp;   &nbsp; set x1=x2 and x2=x3, and then go to Step 2\n"
   ]
  },
  {
   "cell_type": "code",
   "execution_count": 17,
   "metadata": {},
   "outputs": [
    {
     "name": "stdout",
     "output_type": "stream",
     "text": [
      "loop= 1  x1=0.40000  x2=0.48000  x3=-1.15391  err=1.55391e+00\n",
      "loop= 2  x1=0.48000  x2=-1.15391  x3=-0.12221  err=6.02212e-01\n",
      "loop= 3  x1=-1.15391  x2=-0.12221  x3=-0.38917  err=7.64740e-01\n",
      "loop= 4  x1=-0.12221  x2=-0.38917  x3=-0.98873  err=8.66519e-01\n",
      "loop= 5  x1=-0.38917  x2=-0.98873  x3=-0.62712  err=2.37950e-01\n",
      "loop= 6  x1=-0.98873  x2=-0.62712  x3=-0.71849  err=2.70245e-01\n",
      "loop= 7  x1=-0.62712  x2=-0.71849  x3=-0.79672  err=1.69603e-01\n",
      "loop= 8  x1=-0.71849  x2=-0.79672  x3=-0.77582  err=5.73313e-02\n",
      "loop= 9  x1=-0.79672  x2=-0.77582  x3=-0.77800  err=1.87192e-02\n",
      "loop=10  x1=-0.77582  x2=-0.77800  x3=-0.77809  err=2.27256e-03\n",
      "loop=11  x1=-0.77800  x2=-0.77809  x3=-0.77809  err=8.53847e-05\n",
      "loop=12  x1=-0.77809  x2=-0.77809  x3=-0.77809  err=3.93720e-07\n"
     ]
    }
   ],
   "source": [
    "TOL=1.e-5\n",
    "\n",
    "x1,x2=0.4,0.48\n",
    "err=1\n",
    "loop=0\n",
    "while (err>TOL):\n",
    "    loop+=1\n",
    "    if(loop > 100): break\n",
    "    f1=func(x1)\n",
    "    f2=func(x2)\n",
    "    x3=x2-f2*(x2-x1)/(f2-f1)\n",
    "    err=abs(x3-x1)\n",
    "    print (\"loop={:2d}  x1={:.5f}  x2={:.5f}  x3={:.5f}  err={:.5e}\".format(loop,x1,x2,x3,err))\n",
    "    x1=x2\n",
    "    x2=x3"
   ]
  },
  {
   "cell_type": "markdown",
   "metadata": {},
   "source": [
    "## Regula Falsi Method\n",
    "#### Step 1: assign x1 and x2\n",
    "#### Step 2: calculate f1 = F(x1), f2 = F(x2)\n",
    "#### Step 3: calculate x3 = x2 – f2*(x2−x1)/(f2 − f1)\n",
    "#### Step 4: if |x3 − x1| < TOL, stop :x3 is a solution.\n",
    "#### Step 5: if |x3 − x1| > TOL, then\n",
    "#### &nbsp;&nbsp;&nbsp;&nbsp; &nbsp;&nbsp;&nbsp; &nbsp;&nbsp;   &nbsp; &nbsp;&nbsp; &nbsp;&nbsp;   &nbsp; if(f1*f3 < 0), set x2=x3, and then go to Stop2\n",
    "#### &nbsp;&nbsp;&nbsp;&nbsp; &nbsp;&nbsp;&nbsp; &nbsp;&nbsp;   &nbsp; &nbsp;&nbsp; &nbsp;&nbsp;   &nbsp; else, set x1=x3, and then go to Step 2"
   ]
  },
  {
   "cell_type": "code",
   "execution_count": 18,
   "metadata": {},
   "outputs": [
    {
     "name": "stdout",
     "output_type": "stream",
     "text": [
      "loop= 1  x1=0.40000  x2=0.48000  x3=-1.15391  err=1.55391e+00\n",
      "loop= 2  x1=0.40000  x2=-1.15391  x3=-0.15469  err=5.54695e-01\n",
      "loop= 3  x1=-0.15469  x2=-1.15391  x3=-0.40608  err=2.51389e-01\n",
      "loop= 4  x1=-0.40608  x2=-1.15391  x3=-0.54809  err=1.42009e-01\n",
      "loop= 5  x1=-0.54809  x2=-1.15391  x3=-0.63565  err=8.75533e-02\n",
      "loop= 6  x1=-0.63565  x2=-1.15391  x3=-0.69062  err=5.49766e-02\n",
      "loop= 7  x1=-0.69062  x2=-1.15391  x3=-0.72489  err=3.42717e-02\n",
      "loop= 8  x1=-0.72489  x2=-1.15391  x3=-0.74599  err=2.10913e-02\n",
      "loop= 9  x1=-0.74599  x2=-1.15391  x3=-0.75882  err=1.28331e-02\n",
      "loop=10  x1=-0.75882  x2=-1.15391  x3=-0.76656  err=7.74399e-03\n",
      "loop=11  x1=-0.76656  x2=-1.15391  x3=-0.77121  err=4.64736e-03\n",
      "loop=12  x1=-0.77121  x2=-1.15391  x3=-0.77399  err=2.77927e-03\n",
      "loop=13  x1=-0.77399  x2=-1.15391  x3=-0.77565  err=1.65851e-03\n",
      "loop=14  x1=-0.77565  x2=-1.15391  x3=-0.77664  err=9.88408e-04\n",
      "loop=15  x1=-0.77664  x2=-1.15391  x3=-0.77722  err=5.88587e-04\n",
      "loop=16  x1=-0.77722  x2=-1.15391  x3=-0.77758  err=3.50331e-04\n",
      "loop=17  x1=-0.77758  x2=-1.15391  x3=-0.77778  err=2.08461e-04\n",
      "loop=18  x1=-0.77778  x2=-1.15391  x3=-0.77791  err=1.24021e-04\n",
      "loop=19  x1=-0.77791  x2=-1.15391  x3=-0.77798  err=7.37775e-05\n",
      "loop=20  x1=-0.77798  x2=-1.15391  x3=-0.77803  err=4.38860e-05\n",
      "loop=21  x1=-0.77803  x2=-1.15391  x3=-0.77805  err=2.61043e-05\n",
      "loop=22  x1=-0.77805  x2=-1.15391  x3=-0.77807  err=1.55271e-05\n",
      "loop=23  x1=-0.77807  x2=-1.15391  x3=-0.77808  err=9.23553e-06\n"
     ]
    }
   ],
   "source": [
    "TOL=1.e-5\n",
    "\n",
    "x1,x2=0.4,0.48\n",
    "err=1\n",
    "loop=0\n",
    "while (err>TOL):\n",
    "    loop+=1\n",
    "    if(loop > 30): break\n",
    "    f1=func(x1)\n",
    "    f2=func(x2)\n",
    "    x3=x2-f2*(x2-x1)/(f2-f1)\n",
    "    err=abs(x3-x1)\n",
    "    f3=func(x3)\n",
    "    print (\"loop={:2d}  x1={:.5f}  x2={:.5f}  x3={:.5f}  err={:.5e}\".format(loop,x1,x2,x3,err))\n",
    "    if(f1*f3<0): \n",
    "        x2=x3\n",
    "    else:\n",
    "        x1=x3"
   ]
  },
  {
   "cell_type": "markdown",
   "metadata": {
    "collapsed": true
   },
   "source": [
    "## Fixed Point Method\n",
    "\n",
    "$x_{n+1} = f(x_n)$"
   ]
  },
  {
   "cell_type": "code",
   "execution_count": 19,
   "metadata": {
    "collapsed": true
   },
   "outputs": [],
   "source": [
    "def fixedPM(x):\n",
    "    y=np.arccos(-1/(1+np.exp(-2*x)))\n",
    "    return y"
   ]
  },
  {
   "cell_type": "code",
   "execution_count": 21,
   "metadata": {},
   "outputs": [
    {
     "name": "stdout",
     "output_type": "stream",
     "text": [
      "loop=  2    x2=2.0944   err=2.09440e+00\n",
      "loop=  3    x2=2.9685   err=8.74134e-01\n",
      "loop=  4    x2=3.0690   err=1.00482e-01\n",
      "loop=  5    x2=3.0759   err=6.92553e-03\n",
      "loop=  6    x2=3.0764   err=4.52321e-04\n",
      "loop=  7    x2=3.0764   err=2.94338e-05\n",
      "loop=  8    x2=3.0764   err=1.91488e-06\n"
     ]
    }
   ],
   "source": [
    "TOL=1.e-5\n",
    "err=1\n",
    "x1=0\n",
    "loop=1\n",
    "while (err>TOL):\n",
    "    loop +=1\n",
    "    if(loop > 50): break\n",
    "    x2=fixedPM(x1)\n",
    "    err=abs(x1-x2)\n",
    "    x1=x2\n",
    "    print(\"loop={:3d}    x2={:.4f}   err={:.5e}\".format(loop,x2,err))"
   ]
  },
  {
   "cell_type": "code",
   "execution_count": null,
   "metadata": {
    "collapsed": true
   },
   "outputs": [],
   "source": []
  }
 ],
 "metadata": {
  "kernelspec": {
   "display_name": "Python 3",
   "language": "python",
   "name": "python3"
  },
  "language_info": {
   "codemirror_mode": {
    "name": "ipython",
    "version": 3
   },
   "file_extension": ".py",
   "mimetype": "text/x-python",
   "name": "python",
   "nbconvert_exporter": "python",
   "pygments_lexer": "ipython3",
   "version": "3.6.1"
  }
 },
 "nbformat": 4,
 "nbformat_minor": 2
}
