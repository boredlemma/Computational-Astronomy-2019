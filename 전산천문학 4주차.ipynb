{
 "cells": [
  {
   "cell_type": "code",
   "execution_count": 15,
   "metadata": {},
   "outputs": [
    {
     "name": "stdout",
     "output_type": "stream",
     "text": [
      "1 0.7853981633974483 0.21460183660255172 4.659792366325487\n",
      "2 0.9480594489685199 0.0519405510314801 4.131681939078505\n",
      "4 0.9871158009727754 0.012884199027224597 4.031337215586981\n",
      "8 0.9967851718861697 0.003214828113830337 4.007741182738879\n",
      "16 0.999196680485072 0.0008033195149279582 4.001929561139372\n",
      "32 0.9997991943200187 0.00020080567998126408 4.000482033192044\n",
      "64 0.9999498000921012 5.01999078987847e-05 4.000120486000442\n",
      "128 0.999987450117526 1.254988247401112e-05 4.000030120022319\n",
      "256 0.9999968625352876 3.1374647123660893e-06 4.000007529820708\n"
     ]
    }
   ],
   "source": [
    "#example using trapezoidal rule\n",
    "import numpy as np\n",
    "\n",
    "def func (x):\n",
    "    return np.sin(x)\n",
    "\n",
    "a=0\n",
    "b=np.pi/2\n",
    "err_1=1\n",
    "err_2=1\n",
    "for m in range (0,9):\n",
    "    n=2**m\n",
    "    h=(b-a)/n\n",
    "    sum=0.5*h*(func(a)+func(b))\n",
    "    for j in range(1,n):\n",
    "        sum+=h*func(a+j*h)\n",
    "    err_2=1-sum\n",
    "    err_ratio=err_1/err_2 #ratio of error\n",
    "    print(n,sum,err_2,err_ratio)\n",
    "    err_1=err_2\n"
   ]
  },
  {
   "cell_type": "code",
   "execution_count": 31,
   "metadata": {},
   "outputs": [
    {
     "name": "stdout",
     "output_type": "stream",
     "text": [
      "1 0.5235987755982988 0.4764012244017012 2.099071011532079\n",
      "2 1.0022798774922104 -0.0022798774922103693 -208.95913312422078\n",
      "4 1.0001345849741938 -0.00013458497419382986 16.940059660203076\n",
      "8 1.0000082955239677 -8.295523967749574e-06 16.223806322187066\n",
      "16 1.0000005166847064 -5.166847063531321e-07 16.05529226189237\n",
      "32 1.000000032265001 -3.226500089326123e-08 16.013782490272465\n",
      "64 1.0000000020161288 -2.0161288194486815e-09 16.003442132276163\n",
      "128 1.000000000126001 -1.2600098742154842e-10 16.000896982684182\n",
      "256 1.0000000000078748 -7.874811913666235e-12 16.000507542647682\n"
     ]
    }
   ],
   "source": [
    "#example using Simpson's rule\n",
    "import numpy as np\n",
    "\n",
    "def func (x):\n",
    "    return np.sin(x)\n",
    "\n",
    "a=0\n",
    "b=np.pi/2\n",
    "\n",
    "err_1=1\n",
    "err_2=1\n",
    "\n",
    "for m in range (0,9):\n",
    "    n=2**m\n",
    "    h=(b-a)/n\n",
    "    sum=(h/3)*(func(a)+func(b))\n",
    "    \n",
    "    for j in range(1,n-1,2):\n",
    "       \n",
    "        sum+=(4/3)*h*func(a+j*h)\n",
    "        sum+=(2/3)*h*func(a+(j+1)*h)\n",
    "\n",
    "    sum+=(4/3)*h*func(b-h)\n",
    "    \n",
    "    err_2=1-sum\n",
    "    err_ratio=err_1/err_2 #ratio of error\n",
    "    \n",
    "    print(n,sum,err_2,err_ratio)\n",
    "    \n",
    "    err_1=err_2\n",
    "\n",
    "#갓갓갓 선생님이 고쳐주신 코드 ㅠㅠ"
   ]
  },
  {
   "cell_type": "code",
   "execution_count": 34,
   "metadata": {},
   "outputs": [
    {
     "name": "stdout",
     "output_type": "stream",
     "text": [
      "Romberg integration of <function vectorize1.<locals>.vfunc at 0x119df2158> from [0, 1]\n",
      "\n",
      " Steps  StepSize   Results\n",
      "     1  1.000000  0.683940 \n",
      "     2  0.500000  0.731370  0.747180 \n",
      "     4  0.250000  0.742984  0.746855  0.746834 \n",
      "     8  0.125000  0.745866  0.746826  0.746824  0.746824 \n",
      "    16  0.062500  0.746585  0.746824  0.746824  0.746824  0.746824 \n",
      "    32  0.031250  0.746764  0.746824  0.746824  0.746824  0.746824  0.746824 \n",
      "\n",
      "The final result is 0.7468241328122438 after 33 function evaluations.\n"
     ]
    }
   ],
   "source": [
    "#Romberg Integration\n",
    "from scipy import integrate\n",
    "gaussian = lambda x: np.exp(-x**2)\n",
    "result = integrate.romberg(gaussian,0,1,show=True)"
   ]
  },
  {
   "cell_type": "code",
   "execution_count": 3,
   "metadata": {},
   "outputs": [
    {
     "name": "stdout",
     "output_type": "stream",
     "text": [
      "0 -0.932469514203152 0.17132449237916975\n",
      "1 -0.6612093864662645 0.36076157304813894\n",
      "2 -0.23861918608319693 0.46791393457269137\n",
      "3 0.23861918608319693 0.46791393457269137\n",
      "4 0.6612093864662645 0.36076157304813894\n",
      "5 0.932469514203152 0.17132449237916975\n"
     ]
    }
   ],
   "source": [
    "#Gaussian Quadrature\n",
    "import numpy as np\n",
    "deg=6\n",
    "x,w=np.polynomial.legendre.leggauss(deg) #nodes and weights\n",
    "for i in range (deg):\n",
    "    print(i,x[i],w[i])"
   ]
  },
  {
   "cell_type": "code",
   "execution_count": 7,
   "metadata": {},
   "outputs": [
    {
     "name": "stdout",
     "output_type": "stream",
     "text": [
      "nodes= 1 , sum= 2.0\n",
      "nodes= 2 , sum= 1.6758236553899863\n",
      "nodes= 4 , sum= 1.6829416886959736\n",
      "nodes= 8 , sum= 1.6829419696157926\n",
      "nodes= 16 , sum= 1.682941969615793\n"
     ]
    }
   ],
   "source": [
    "#Gaussian Quadrature\n",
    "import numpy as np\n",
    "\n",
    "def func(x):\n",
    "    return np.cos(x)\n",
    "\n",
    "for i in range(0,5):\n",
    "    deg=2**i\n",
    "    x,w=np.polynomial.legendre.leggauss(deg) #nodes and weights\n",
    "    sum=0\n",
    "    for j in range (deg):\n",
    "        sum+=w[j]*func(x[j])\n",
    "    print('nodes=',deg, ', sum=',sum)\n",
    "    \n",
    "    "
   ]
  },
  {
   "cell_type": "code",
   "execution_count": null,
   "metadata": {},
   "outputs": [],
   "source": [
    "#Gaussian Quadrature-using np.sum\n",
    "import numpy as np\n",
    "\n",
    "def func(x):\n",
    "    return np.cos(x)\n",
    "\n",
    "gauss=0.\n",
    "\n",
    "for i in range(0,5):\n",
    "    deg=2**i\n",
    "    x,w=np.polynomial.legendre.leggauss(deg) #nodes and weights\n",
    "    gauss=np.sum(w*func(x))\n",
    "    print('nodes=',deg,'sum=',sum)"
   ]
  },
  {
   "cell_type": "code",
   "execution_count": null,
   "metadata": {},
   "outputs": [],
   "source": [
    "from scipy import integrate \n",
    "f= lambda x : np.cos(x)\n",
    "integrate.quad(f,-1,1)"
   ]
  },
  {
   "cell_type": "code",
   "execution_count": 10,
   "metadata": {},
   "outputs": [
    {
     "name": "stdout",
     "output_type": "stream",
     "text": [
      "nodes= 1 , sum= 0.1743308994642264\n",
      "nodes= 2 , sum= 0.19226870637091759\n",
      "nodes= 4 , sum= 0.1922593578048632\n",
      "nodes= 8 , sum= 0.192259357732796\n",
      "nodes= 16 , sum= 0.19225935773279604\n"
     ]
    }
   ],
   "source": [
    "#Gaussian Quadrature-change of interval\n",
    "import numpy as np\n",
    "\n",
    "a=1\n",
    "b=1.5\n",
    "\n",
    "def func(x):\n",
    "    return (x**2)*np.log(x)\n",
    "\n",
    "for i in range(0,5):\n",
    "    deg=2**i\n",
    "    x,w=np.polynomial.legendre.leggauss(deg) #nodes and weights\n",
    "    sum=0\n",
    "    for j in range (deg):\n",
    "        sum+=w[j]*func(0.5*(a+b+x[j]*(b-a)))\n",
    "    sum*=(0.5*b-0.5*a)\n",
    "    print('nodes=',deg, ', sum=',sum)"
   ]
  },
  {
   "cell_type": "code",
   "execution_count": 11,
   "metadata": {},
   "outputs": [
    {
     "name": "stdout",
     "output_type": "stream",
     "text": [
      "nodes= 1 , sum= 0.7788007830714049\n",
      "nodes= 2 , sum= 0.7465946882828597\n",
      "nodes= 4 , sum= 0.7468244681309939\n",
      "nodes= 8 , sum= 0.7468241328124335\n",
      "nodes= 16 , sum= 0.7468241328124271\n"
     ]
    }
   ],
   "source": [
    "#Gaussian Quadrature-change of interval 2\n",
    "import numpy as np\n",
    "\n",
    "a=0\n",
    "b=1\n",
    "\n",
    "def func(x):\n",
    "    return np.exp(-x**2)\n",
    "\n",
    "for i in range(0,5):\n",
    "    deg=2**i\n",
    "    x,w=np.polynomial.legendre.leggauss(deg) #nodes and weights\n",
    "    sum=0\n",
    "    for j in range (deg):\n",
    "        sum+=w[j]*func(0.5*(a+b+x[j]*(b-a)))\n",
    "    sum*=(0.5*b-0.5*a)\n",
    "    print('nodes=',deg, ', sum=',sum)"
   ]
  },
  {
   "cell_type": "code",
   "execution_count": 16,
   "metadata": {},
   "outputs": [
    {
     "name": "stdout",
     "output_type": "stream",
     "text": [
      "Simpson rule\n",
      "1 1.7892931470571474 2.3958694804343454\n",
      "2 0.7471804289095103 1.0004770816600939\n",
      "4 0.7468553797909872 1.0000418398083086\n",
      "8 0.7468261205274666 1.000002661557051\n",
      "16 0.7468242574357303 1.0000001668710141\n",
      "Gaussian Quadratue\n",
      "1 0.7788007830714049 1.0428168411464631\n",
      "2 0.7465946882828597 0.9996927730110886\n",
      "4 0.7468244681309939 1.0000004489926733\n",
      "8 0.7468241328124335 1.0000000000000047\n",
      "16 0.7468241328124271 0.9999999999999961\n"
     ]
    }
   ],
   "source": [
    "#comparing Simpson's rule\n",
    "import numpy as np\n",
    "\n",
    "def func(x):\n",
    "    return np.exp(-x**2)\n",
    "\n",
    "a=0\n",
    "b=1\n",
    "truevalue=0.74682413281243\n",
    "\n",
    "print('Simpson rule')\n",
    "for m in range (0,5):\n",
    "    n=2**m\n",
    "    h=(b-a)/n\n",
    "    sum1=(h/3)*(func(a)+func(b))\n",
    "    \n",
    "    for j in range(1,n-1,2):\n",
    "       \n",
    "        sum1+=(4/3)*h*func(a+j*h)\n",
    "        sum1+=(2/3)*h*func(a+(j+1)*h)\n",
    "\n",
    "    sum1+=(4/3)*h*func(b-h)\n",
    "\n",
    "    print(n,sum1,sum1/truevalue)\n",
    "    \n",
    "print('Gaussian Quadratue') \n",
    "for i in range(0,5):\n",
    "    deg=2**i\n",
    "    x,w=np.polynomial.legendre.leggauss(deg) #nodes and weights\n",
    "    sum=0\n",
    "    for j in range (deg):\n",
    "        sum+=w[j]*func(0.5*(a+b+x[j]*(b-a)))\n",
    "    sum*=(0.5*b-0.5*a)\n",
    "    print(deg,sum,sum/truevalue)\n",
    "    \n",
    "\n"
   ]
  },
  {
   "cell_type": "code",
   "execution_count": 1,
   "metadata": {},
   "outputs": [
    {
     "name": "stdout",
     "output_type": "stream",
     "text": [
      "nodes= 1 , sum= 1.1478717926590842\n",
      "nodes= 2 , sum= 0.9568080714323444\n",
      "nodes= 4 , sum= 1.008638633229734\n",
      "nodes= 8 , sum= 1.0002927557510959\n",
      "nodes= 16 , sum= 0.9999983862411856\n",
      "nodes= 32 , sum= 1.0000000002026133\n",
      "nodes= 64 , sum= 1.0\n",
      "nodes= 128 , sum= 1.000000000000001\n",
      "nodes= 256 , sum= 1.0\n",
      "nodes= 512 , sum= 0.999999999999999\n",
      "nodes= 1024 , sum= 0.9999999999999957\n"
     ]
    }
   ],
   "source": [
    "#Example 4 \n",
    "\n",
    "import numpy as np\n",
    "\n",
    "a=0\n",
    "b=1\n",
    "\n",
    "def func1(x):\n",
    "    return np.exp(-x)\n",
    "\n",
    "def func2(y):\n",
    "    return np.exp(-1/y)/y**2\n",
    "\n",
    "for i in range(0,11):\n",
    "    deg=2**i\n",
    "    x,w=np.polynomial.legendre.leggauss(deg) #nodes and weights\n",
    "    sum1,sum2=0,0\n",
    "    for j in range (deg):\n",
    "        sum1+=w[j]*func1(0.5*(a+b+x[j]*(b-a)))\n",
    "        sum2+=w[j]*func2(0.5*(a+b+x[j]*(b-a)))\n",
    "    sum1*=(0.5*b-0.5*a)\n",
    "    sum2*=(0.5*b-0.5*a)\n",
    "    sum=sum1+sum2\n",
    "    print('nodes=',deg, ', sum=',sum)"
   ]
  },
  {
   "cell_type": "code",
   "execution_count": 17,
   "metadata": {},
   "outputs": [
    {
     "name": "stdout",
     "output_type": "stream",
     "text": [
      "nodes= 1 , sum= 0.0 ratio= 0.0\n",
      "nodes= 2 , sum= 0.0 ratio= 0.0\n",
      "nodes= 4 , sum= 0.0 ratio= 0.0\n",
      "nodes= 8 , sum= 0.0 ratio= 0.0\n",
      "nodes= 16 , sum= 1.4116116683838579e-219 ratio= 2.1737370507201054e-220\n"
     ]
    }
   ],
   "source": [
    "#Exercise-not completed\n",
    "import numpy as np\n",
    "\n",
    "a=0.00001\n",
    "b=100000\n",
    "truevalue=(np.pi**4)/15\n",
    "\n",
    "def func(x):\n",
    "    return x**3/(np.exp(x)-1)\n",
    "\n",
    "\n",
    "for i in range(0,5):\n",
    "    deg=2**i\n",
    "    x,w=np.polynomial.legendre.leggauss(deg) #nodes and weights\n",
    "    sum=0\n",
    "    for j in range (deg):\n",
    "        sum+=w[j]*func(0.5*(a+b+x[j]*(b-a)))\n",
    "    sum*=(0.5*b-0.5*a)\n",
    "    print('nodes=',deg, ', sum=',sum, 'ratio=', sum/truevalue)"
   ]
  },
  {
   "cell_type": "code",
   "execution_count": null,
   "metadata": {},
   "outputs": [],
   "source": []
  }
 ],
 "metadata": {
  "kernelspec": {
   "display_name": "Python 3",
   "language": "python",
   "name": "python3"
  },
  "language_info": {
   "codemirror_mode": {
    "name": "ipython",
    "version": 3
   },
   "file_extension": ".py",
   "mimetype": "text/x-python",
   "name": "python",
   "nbconvert_exporter": "python",
   "pygments_lexer": "ipython3",
   "version": "3.7.1"
  }
 },
 "nbformat": 4,
 "nbformat_minor": 2
}
