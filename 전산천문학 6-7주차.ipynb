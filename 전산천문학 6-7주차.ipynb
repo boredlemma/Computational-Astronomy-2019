{
 "cells": [
  {
   "cell_type": "code",
   "execution_count": 1,
   "metadata": {},
   "outputs": [
    {
     "ename": "NameError",
     "evalue": "name 'x' is not defined",
     "output_type": "error",
     "traceback": [
      "\u001b[0;31m---------------------------------------------------------------------------\u001b[0m",
      "\u001b[0;31mNameError\u001b[0m                                 Traceback (most recent call last)",
      "\u001b[0;32m<ipython-input-1-8f64e0d8fc15>\u001b[0m in \u001b[0;36m<module>\u001b[0;34m\u001b[0m\n\u001b[1;32m      9\u001b[0m \u001b[0;34m\u001b[0m\u001b[0m\n\u001b[1;32m     10\u001b[0m \u001b[0mmodel\u001b[0m\u001b[0;34m=\u001b[0m\u001b[0mModel\u001b[0m\u001b[0;34m(\u001b[0m\u001b[0mgauss_func\u001b[0m\u001b[0;34m)\u001b[0m\u001b[0;34m\u001b[0m\u001b[0;34m\u001b[0m\u001b[0m\n\u001b[0;32m---> 11\u001b[0;31m \u001b[0mdata\u001b[0m\u001b[0;34m=\u001b[0m\u001b[0mRealData\u001b[0m\u001b[0;34m(\u001b[0m\u001b[0mx\u001b[0m\u001b[0;34m,\u001b[0m\u001b[0my\u001b[0m\u001b[0;34m,\u001b[0m\u001b[0msy\u001b[0m\u001b[0;34m=\u001b[0m\u001b[0myerr\u001b[0m\u001b[0;34m)\u001b[0m\u001b[0;34m\u001b[0m\u001b[0;34m\u001b[0m\u001b[0m\n\u001b[0m\u001b[1;32m     12\u001b[0m \u001b[0;34m\u001b[0m\u001b[0m\n\u001b[1;32m     13\u001b[0m \u001b[0modr\u001b[0m\u001b[0;34m=\u001b[0m\u001b[0mODR\u001b[0m\u001b[0;34m(\u001b[0m\u001b[0mdata\u001b[0m\u001b[0;34m,\u001b[0m\u001b[0mmodel\u001b[0m\u001b[0;34m,\u001b[0m\u001b[0mbeta0\u001b[0m\u001b[0;34m=\u001b[0m\u001b[0;34m[\u001b[0m\u001b[0;36m1000.\u001b[0m\u001b[0;34m,\u001b[0m\u001b[0;36m1000.\u001b[0m\u001b[0;34m,\u001b[0m\u001b[0;36m2\u001b[0m\u001b[0;34m,\u001b[0m\u001b[0;36m1\u001b[0m\u001b[0;34m]\u001b[0m\u001b[0;34m)\u001b[0m\u001b[0;34m\u001b[0m\u001b[0;34m\u001b[0m\u001b[0m\n",
      "\u001b[0;31mNameError\u001b[0m: name 'x' is not defined"
     ]
    }
   ],
   "source": [
    "import numpy as np\n",
    "import matplotlib.pyplot as plt\n",
    "from scipy.odr import *\n",
    "\n",
    "def gauss_func(p,x):\n",
    "    xc=x-p[2]\n",
    "    sig2=p[3]**2\n",
    "    return p[0]+p[1]*np.exp(-0.5*xc**2/sig2)\n",
    "\n",
    "model=Model(gauss_func)\n",
    "\n",
    "data=RealData(x,y,sy=yerr)\n",
    "\n",
    "odr=ODR(data,model,beta0=[1000.,1000.,2,1])\n",
    "out=odr.run()\n",
    "out.pprint()"
   ]
  },
  {
   "cell_type": "code",
   "execution_count": 2,
   "metadata": {},
   "outputs": [
    {
     "ename": "SyntaxError",
     "evalue": "invalid syntax (<ipython-input-2-b52e541a6371>, line 10)",
     "output_type": "error",
     "traceback": [
      "\u001b[0;36m  File \u001b[0;32m\"<ipython-input-2-b52e541a6371>\"\u001b[0;36m, line \u001b[0;32m10\u001b[0m\n\u001b[0;31m    data=Data(np.row.stack.([x,y]),y=1)\u001b[0m\n\u001b[0m                           ^\u001b[0m\n\u001b[0;31mSyntaxError\u001b[0m\u001b[0;31m:\u001b[0m invalid syntax\n"
     ]
    }
   ],
   "source": [
    "import numpy as np\n",
    "import matplotlib.pyplot as plt\n",
    "from scipy.odr import *\n",
    "\n",
    "def ellipse_func(p,x):\n",
    "    t=p[0]+x[0]**2+p[1]*x[1]**2+ \\\n",
    "        p[2]*x[0]*x[1]+p[3]*x[0]\n",
    "    return t\n",
    "\n",
    "data=Data(np.row.stack.([x,y]),y=1)\n",
    "model=Model(ellipse_func, implicit=True\n",
    "odr=ODR(data,model,beta0=[1,1,1,1,1,1],maxit=100)\n",
    "out=odr.run()\n",
    "out.pprint()\n",
    "print(out.beta)"
   ]
  },
  {
   "cell_type": "code",
   "execution_count": 6,
   "metadata": {},
   "outputs": [
    {
     "data": {
      "text/plain": [
       "array([0.26094164, 0.57134498, 0.70885721, 0.96962219, 0.62750961,\n",
       "       0.63578995, 0.2199117 , 0.87039562, 0.55506833, 0.36660177])"
      ]
     },
     "execution_count": 6,
     "metadata": {},
     "output_type": "execute_result"
    }
   ],
   "source": [
    "np.random.rand(10)"
   ]
  },
  {
   "cell_type": "code",
   "execution_count": 8,
   "metadata": {},
   "outputs": [
    {
     "data": {
      "text/plain": [
       "array([4.17022005e-01, 7.20324493e-01, 1.14374817e-04, 3.02332573e-01,\n",
       "       1.46755891e-01, 9.23385948e-02, 1.86260211e-01, 3.45560727e-01,\n",
       "       3.96767474e-01, 5.38816734e-01])"
      ]
     },
     "execution_count": 8,
     "metadata": {},
     "output_type": "execute_result"
    }
   ],
   "source": [
    "np.random.seed(1)\n",
    "np.random.rand(10)"
   ]
  },
  {
   "cell_type": "code",
   "execution_count": 9,
   "metadata": {},
   "outputs": [
    {
     "data": {
      "text/plain": [
       "array([4.17022005e-01, 7.20324493e-01, 1.14374817e-04, 3.02332573e-01,\n",
       "       1.46755891e-01, 9.23385948e-02, 1.86260211e-01, 3.45560727e-01,\n",
       "       3.96767474e-01, 5.38816734e-01])"
      ]
     },
     "execution_count": 9,
     "metadata": {},
     "output_type": "execute_result"
    }
   ],
   "source": [
    "np.random.seed(1)\n",
    "np.random.rand(10)\n",
    "#시드를 주면 할 때마다 같은 값이 반복된다"
   ]
  },
  {
   "cell_type": "code",
   "execution_count": 35,
   "metadata": {},
   "outputs": [
    {
     "data": {
      "image/png": "[encoded data removed]",
      "text/plain": [
       "<Figure size 432x288 with 1 Axes>"
      ]
     },
     "metadata": {
      "needs_background": "light"
     },
     "output_type": "display_data"
    },
    {
     "data": {
      "image/png": "[encoded data removed]",
      "text/plain": [
       "<Figure size 432x288 with 1 Axes>"
      ]
     },
     "metadata": {
      "needs_background": "light"
     },
     "output_type": "display_data"
    },
    {
     "data": {
      "image/png": "[encoded data removed]",
      "text/plain": [
       "<Figure size 432x288 with 1 Axes>"
      ]
     },
     "metadata": {
      "needs_background": "light"
     },
     "output_type": "display_data"
    }
   ],
   "source": [
    "import numpy as np\n",
    "import matplotlib.pyplot as plt\n",
    "data = np.random.rand(100) #이 숫자가 커질수록 분포가 균일해진다\n",
    "bins = np.arange(0., 1., 0.01)\n",
    "\n",
    "# plot the frequencies\n",
    "\n",
    "plt.hist(data,bins,color='#342D7E')\n",
    "plt.show()\n",
    "\n",
    "# plot the probability density function \n",
    "\n",
    "plt.hist(data, bins,normed=1, color='#5d8aa8') \n",
    "plt.show()\n",
    "\n",
    "# plot unfilled, stepped lines rather than filled bars \n",
    "\n",
    "plt.hist(data,bins,normed=1,histtype='step',color='#002147')\n",
    "plt.show()"
   ]
  },
  {
   "cell_type": "code",
   "execution_count": 27,
   "metadata": {},
   "outputs": [
    {
     "name": "stdout",
     "output_type": "stream",
     "text": [
      "3.141508\n"
     ]
    }
   ],
   "source": [
    "#MC calculation of pi\n",
    "\n",
    "N=10000000\n",
    "x=np.random.rand(N) \n",
    "y=np.random.rand(N)\n",
    "\n",
    "num=0\n",
    "\n",
    "for i in np.arange(0,N):\n",
    "    r=x[i]**2+y[i]**2\n",
    "    if r<=1:\n",
    "        num+=1\n",
    "pi=4*num/N\n",
    "print(pi)"
   ]
  },
  {
   "cell_type": "markdown",
   "metadata": {},
   "source": [
    " ### 여기서부터는 혼자 하는 복습"
   ]
  },
  {
   "cell_type": "code",
   "execution_count": 1,
   "metadata": {},
   "outputs": [],
   "source": [
    "#exercise 3 - not completed\n",
    "import numpy as np\n",
    "import matplotlib.pyplot as plt\n",
    "\n",
    "def xf(N,n):\n",
    "    np.random.seed(n)\n",
    "    xf=0\n",
    "    for i in (0,N-1):\n",
    "        x=np.random.rand(1)\n",
    "        if x>=0.5:\n",
    "            xf+=1\n",
    "        else:\n",
    "            xf-=1\n",
    "    return xf"
   ]
  },
  {
   "cell_type": "code",
   "execution_count": 7,
   "metadata": {},
   "outputs": [],
   "source": [
    "X=[]\n",
    "J=[]\n",
    "C=[]\n",
    "for i in np.arange(0,10**3):\n",
    "    X.append(xf(10**4,i))\n",
    "for i in np.arange(i,10**1):\n",
    "    j=2**i-10**1\n",
    "    c=X.count(j)\n",
    "    print(j,c)"
   ]
  },
  {
   "cell_type": "code",
   "execution_count": 13,
   "metadata": {},
   "outputs": [
    {
     "name": "stdout",
     "output_type": "stream",
     "text": [
      "100 [1.76072536]\n",
      "1000 [1.7178496]\n",
      "10000 [1.72049974]\n",
      "100000 [1.71910952]\n"
     ]
    }
   ],
   "source": [
    "#exercise 4\n",
    "\n",
    "a,b=0,1\n",
    "\n",
    "for i in range(2,6):\n",
    "    N=10**i\n",
    "    I=0\n",
    "    for j in range(N):\n",
    "        x=np.random.rand(1)\n",
    "        I+=np.exp(x)\n",
    "    I*=(b-a)/N\n",
    "    print(N,I)"
   ]
  },
  {
   "cell_type": "code",
   "execution_count": 16,
   "metadata": {},
   "outputs": [
    {
     "name": "stdout",
     "output_type": "stream",
     "text": [
      "100 [1.72699031]\n",
      "1000 [1.7234234]\n",
      "10000 [1.7200183]\n",
      "100000 [1.71810439]\n"
     ]
    }
   ],
   "source": [
    "#exercise 5\n",
    "a,b=0,1.5\n",
    "def func(x):\n",
    "    X=np.sqrt(1+2*x)\n",
    "    Y=np.exp(X-1)/X\n",
    "    return Y\n",
    "\n",
    "for i in range(2,6):\n",
    "    N=10**i\n",
    "    I=0\n",
    "    for j in range(N):\n",
    "        x=1.5*np.random.rand(1)\n",
    "        I+=func(x)\n",
    "    I*=(b-a)/N\n",
    "    print(N,I)"
   ]
  },
  {
   "cell_type": "code",
   "execution_count": 36,
   "metadata": {},
   "outputs": [
    {
     "data": {
      "image/png": "[encoded data removed]",
      "text/plain": [
       "<Figure size 432x288 with 1 Axes>"
      ]
     },
     "metadata": {
      "needs_background": "light"
     },
     "output_type": "display_data"
    },
    {
     "data": {
      "image/png": "[encoded data removed]",
      "text/plain": [
       "<Figure size 432x288 with 1 Axes>"
      ]
     },
     "metadata": {
      "needs_background": "light"
     },
     "output_type": "display_data"
    }
   ],
   "source": [
    "#exercise 6\n",
    "l=2\n",
    "x=np.random.rand(10**4)\n",
    "data =-np.log(x)/l\n",
    "bins=np.arange(0,5,0.1)\n",
    "y=-np.log(x1)/l\n",
    "data2=np.random.exponential(1/l,10**4)\n",
    "\n",
    "plt.hist(data2,bins,color='#1560bd')\n",
    "plt.show()\n",
    "plt.hist(data,bins,color='#007fbf')\n",
    "plt.show()"
   ]
  },
  {
   "cell_type": "code",
   "execution_count": 43,
   "metadata": {},
   "outputs": [
    {
     "data": {
      "image/png": "[encoded data removed]",
      "text/plain": [
       "<Figure size 432x288 with 1 Axes>"
      ]
     },
     "metadata": {
      "needs_background": "light"
     },
     "output_type": "display_data"
    },
    {
     "data": {
      "image/png": "[encoded data removed]",
      "text/plain": [
       "<Figure size 432x288 with 1 Axes>"
      ]
     },
     "metadata": {
      "needs_background": "light"
     },
     "output_type": "display_data"
    }
   ],
   "source": [
    "#exercise 7\n",
    "x1=np.random.rand(10**4)\n",
    "x2=np.random.rand(10**4)\n",
    "\n",
    "theta=2*np.pi*x1\n",
    "R=np.sqrt(-2*np.log(x2))\n",
    "bins=np.arange(-5,5,0.1)\n",
    "\n",
    "X=R*np.cos(theta)\n",
    "data=X\n",
    "plt.hist(data,bins,color='#c7d8f6')\n",
    "plt.show()\n",
    "\n",
    "Y=np.random.normal(loc=0,scale=1,size=10**4)\n",
    "plt.hist(data,bins,color='#4b6fb1')\n",
    "plt.show()"
   ]
  },
  {
   "cell_type": "code",
   "execution_count": 2,
   "metadata": {},
   "outputs": [
    {
     "name": "stdout",
     "output_type": "stream",
     "text": [
      "[0.]\n",
      "[0.5]\n",
      "[0.75]\n",
      "[0.25]\n",
      "[0.375]\n",
      "[0.875]\n",
      "[0.625]\n",
      "[0.125]\n",
      "[0.1875]\n",
      "[0.6875]\n"
     ]
    }
   ],
   "source": [
    "from sobol_lib import *\n",
    "\n",
    "dim_num=1\n",
    "seed=0\n",
    "\n",
    "n=10\n",
    "\n",
    "for i in range (n):\n",
    "    [r, seed_out]=i4_sobol (dim_num,seed)\n",
    "    print(r)\n",
    "    seed=seed_out\n"
   ]
  },
  {
   "cell_type": "code",
   "execution_count": 3,
   "metadata": {},
   "outputs": [
    {
     "name": "stdout",
     "output_type": "stream",
     "text": [
      "100 1.7081789118573347\n",
      "1000000 1.7182800292264546\n"
     ]
    }
   ],
   "source": [
    "#exercise8\n",
    "dim_num=1\n",
    "seed=0\n",
    "R=[]\n",
    "for i in (2,6):\n",
    "    n=10**i\n",
    "    for i in range (n):\n",
    "        [r, seed_out]=i4_sobol (dim_num,seed)\n",
    "        seed=seed_out\n",
    "        R.append(float(r))\n",
    "    I=0\n",
    "    for j in range(n):\n",
    "        I+=np.exp(R[j])\n",
    "    I*=(1-0)/n\n",
    "    print(n,I)"
   ]
  },
  {
   "cell_type": "code",
   "execution_count": null,
   "metadata": {},
   "outputs": [],
   "source": []
  }
 ],
 "metadata": {
  "kernelspec": {
   "display_name": "Python 3",
   "language": "python",
   "name": "python3"
  },
  "language_info": {
   "codemirror_mode": {
    "name": "ipython",
    "version": 3
   },
   "file_extension": ".py",
   "mimetype": "text/x-python",
   "name": "python",
   "nbconvert_exporter": "python",
   "pygments_lexer": "ipython3",
   "version": "3.7.1"
  }
 },
 "nbformat": 4,
 "nbformat_minor": 2
}
