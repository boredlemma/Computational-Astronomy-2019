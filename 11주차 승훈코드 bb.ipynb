{
 "cells": [
  {
   "cell_type": "code",
   "execution_count": 11,
   "metadata": {},
   "outputs": [
    {
     "name": "stdout",
     "output_type": "stream",
     "text": [
      "[ 0.20618557  0.86172219 -1.96105757  4.7898635   9.78678388 -7.06468947] \n",
      " [-0.48385952  1.11557288 -1.73486451 -1.23584238  5.81683373 -7.06468947]\n"
     ]
    }
   ],
   "source": [
    "import numpy as np\n",
    "import matplotlib.pyplot as plt\n",
    "from scipy.integrate import odeint\n",
    "a = np.array([0,2.1,9.4,3.3,7.5,8.8])\n",
    "b = np.array([9.7,9.5,5.2,3.5,5.1,6.0])\n",
    "c = np.array([6.0,1.2,0.7,3.0,1.5,0])#a처음, c마지막은 0으로 처리\n",
    "r = np.array([2.0,7.5,0.6,7.4,9.8,8.8])\n",
    "gam,rho = np.zeros(6),np.zeros(6)\n",
    "\n",
    "bet = b[0]\n",
    "rho[0] = r[0]/bet\n",
    "for i in range(1,6):\n",
    "    gam[i-1]= c[i-1]/bet\n",
    "    bet = b[i]-a[i]*gam[i-1]\n",
    "    rho[i] = (r[i]-a[i]*rho[i-1])/bet\n",
    "\n",
    "\n",
    "\n",
    "x = np.zeros(6)\n",
    "x[5] = rho[5]\n",
    "for i in range(4,-1,-1):\n",
    "    x[i] = rho[i]-gam[i]*x[i+1]\n",
    "print(rho,'\\n',x)"
   ]
  },
  {
   "cell_type": "code",
   "execution_count": 88,
   "metadata": {},
   "outputs": [
    {
     "name": "stderr",
     "output_type": "stream",
     "text": [
      "C:\\Users\\ASUS\\Anaconda3\\lib\\site-packages\\ipykernel_launcher.py:14: DeprecationWarning: elementwise == comparison failed; this will raise an error in the future.\n",
      "  \n"
     ]
    },
    {
     "name": "stdout",
     "output_type": "stream",
     "text": [
      "[[0.07236905 0.14546179 0.21901915 ... 0.2391897  0.15976478 0.0799775 ]\n",
      " [0.0669546  0.13385506 0.20063945 ... 0.2096107  0.1399061  0.07000292]\n",
      " [0.06013752 0.12087642 0.18148553 ... 0.18681334 0.12443898 0.06190994]\n",
      " ...\n",
      " [0.01497593 0.03010162 0.04519821 ... 0.04523109 0.03012356 0.01498685]\n",
      " [0.0136554  0.02744735 0.04121276 ... 0.04123646 0.02746317 0.01366327]\n",
      " [0.01245112 0.02502675 0.03757817 ... 0.03759526 0.02503815 0.01245679]]\n"
     ]
    },
    {
     "data": {
      "image/png": "[encoded data removed]",
      "text/plain": [
       "<Figure size 432x288 with 2 Axes>"
      ]
     },
     "metadata": {
      "needs_background": "light"
     },
     "output_type": "display_data"
    }
   ],
   "source": [
    "#heat equation\n",
    "def heat(x):\n",
    "    return 10*x*(1-x)\n",
    "h = 0.01\n",
    "alpha = 1/h\n",
    "n = int(1/h)\n",
    "J = np.zeros(int(1/h))\n",
    "#N = np.zeros(int(1/h))\n",
    "SOL = np.zeros((int(0.2*(1/h)),int(1/h)))\n",
    "#D = 1\n",
    "def calc(J,n):\n",
    "    T_n = []\n",
    "    for l in range(0,int(0.2*n)):\n",
    "        if T_n ==[]:\n",
    "            x = 0\n",
    "            for j in range(0,n):\n",
    "                T_n.append(heat(x))\n",
    "                x+=1/n\n",
    "\n",
    "            a = np.array([0]+[-1*alpha]*(n-1))\n",
    "            b = np.array([1+2*alpha]*n)\n",
    "            c = np.array([-1*alpha]*(n-1)+[0])\n",
    "            gam,rho = np.zeros(n),T_n\n",
    "\n",
    "            bet = b[0]\n",
    "            rho[0] = T_n[0]/bet\n",
    "            for i in range(1,n):\n",
    "                gam[i-1]= c[i-1]/bet\n",
    "                bet = b[i]-a[i]*gam[i-1]\n",
    "                rho[i] = (T_n[i]-a[i]*rho[i-1])/bet\n",
    "\n",
    "            x = np.zeros(n)\n",
    "            x[n-1] = rho[n-1]\n",
    "            for i in range(n-2,-1,-1):\n",
    "                x[i] = rho[i]-gam[i]*x[i+1]\n",
    "            #print(rho,'\\n',x)\n",
    "            for m in range(0,len(x)):\n",
    "                SOL[l,m] = x[m]\n",
    "            T_n = x\n",
    "        else:\n",
    "            a = np.array([0]+[-1*alpha]*(n-1))\n",
    "            b = np.array([1+2*alpha]*n)\n",
    "            c = np.array([-1*alpha]*(n-1)+[0])\n",
    "            gam,rho = np.zeros(n),T_n\n",
    "\n",
    "            bet = b[0]\n",
    "            rho[0] = T_n[0]/bet\n",
    "            for i in range(1,n):\n",
    "                gam[i-1]= c[i-1]/bet\n",
    "                bet = b[i]-a[i]*gam[i-1]\n",
    "                rho[i] = (T_n[i]-a[i]*rho[i-1])/bet\n",
    "\n",
    "            x = np.zeros(n)\n",
    "            x[n-1] = rho[n-1]\n",
    "            for i in range(n-2,-1,-1):\n",
    "                x[i] = rho[i]-gam[i]*x[i+1]\n",
    "            #print(rho,'\\n',x)\n",
    "            for m in range(0,len(x)):\n",
    "                SOL[l,m] = x[m]\n",
    "            x[0] = x[n-1] = 0\n",
    "            T_n = x\n",
    "    print(SOL)\n",
    "    plt.imshow(SOL,extent=[0,1,0,0.2],origin='lower',aspect='auto')\n",
    "    plt.colorbar()\n",
    "calc(J,n)"
   ]
  },
  {
   "cell_type": "code",
   "execution_count": 86,
   "metadata": {},
   "outputs": [
    {
     "name": "stdout",
     "output_type": "stream",
     "text": [
      "-2.000054255761773 21\n"
     ]
    }
   ],
   "source": [
    "#optimization\n",
    "#golden section search\n",
    "a,b,R = -3,-1,0.618\n",
    "tol = 1e-4\n",
    "\n",
    "def F(x):\n",
    "    return x*(x-2)*(x+2)**2\n",
    "iter = 0\n",
    "while (b-a)>tol:\n",
    "    x1 = b-R*(b-a)\n",
    "    f1 = F(x1)\n",
    "    x2 = a+R*(b-a)\n",
    "    f2 = F(x2)\n",
    "    iter+=1\n",
    "    if f1>f2:\n",
    "        a = x1\n",
    "    else:\n",
    "        b = x2\n",
    "print(a,iter)"
   ]
  },
  {
   "cell_type": "code",
   "execution_count": 95,
   "metadata": {},
   "outputs": [
    {
     "name": "stdout",
     "output_type": "stream",
     "text": [
      "     fun: -9.914949590828147\n",
      "    nfev: 15\n",
      "     nit: 11\n",
      " success: True\n",
      "       x: 1.2807764040333458 \n",
      "\n",
      "     fun: -9.914949590828147\n",
      "    nfev: 15\n",
      "     nit: 11\n",
      " success: True\n",
      "       x: 1.2807764040333458\n"
     ]
    }
   ],
   "source": [
    "#minimization\n",
    "import scipy.optimize as opt\n",
    "\n",
    "def F(x):\n",
    "    return x*(x-2)*(x+2)**2\n",
    "res = opt.minimize_scalar(F,bounds = (-3,-1),method = 'Brent')\n",
    "print(res,'\\n')\n",
    "#Brent는 아예 bounded가 안먹히는듯\n",
    "res1 = opt.minimize_scalar(F,method = 'Brent')\n",
    "print(res1)"
   ]
  },
  {
   "cell_type": "code",
   "execution_count": 114,
   "metadata": {},
   "outputs": [
    {
     "data": {
      "text/plain": [
       "(1.0471975511965974, 4)"
      ]
     },
     "execution_count": 114,
     "metadata": {},
     "output_type": "execute_result"
    }
   ],
   "source": [
    "def F(T):\n",
    "    return -4*np.sin(T)*(1-np.cos(T))\n",
    "def FP(T):\n",
    "    return -4*(np.cos(T)*(1+np.cos(T))-np.sin(T)**2)\n",
    "def FPP(T):\n",
    "    return 4*np.sin(T)*(1+4*np.cos(T))\n",
    "'''def TF(TH,T):\n",
    "    return F(T)+FP(T)*(TH-T)+0.5*FPP(T)*(TH-T)**2'''\n",
    "\n",
    "iter,tol = 0,1e-5\n",
    "def NM(t_0,it):\n",
    "    x_k = t_0\n",
    "    it+=1\n",
    "    x_k1 = x_k-FP(x_k)/FPP(x_k)\n",
    "    if np.abs(x_k1-x_k)<tol:\n",
    "        return x_k1,it\n",
    "    else:\n",
    "        return NM(x_k1,it)\n",
    "NM(1.5,iter)\n",
    "# global minimum에 수렴하지는 않는다.."
   ]
  },
  {
   "cell_type": "code",
   "execution_count": 121,
   "metadata": {},
   "outputs": [
    {
     "data": {
      "text/plain": [
       "(1.0, 1.0, 5)"
      ]
     },
     "execution_count": 121,
     "metadata": {},
     "output_type": "execute_result"
    }
   ],
   "source": [
    "#2d Newton\n",
    "def F(x,y):\n",
    "    return 100*(y-x**2)**2+(1-x)**2\n",
    "def Hes(x,y):\n",
    "    H = [[-400*y+1200*x**2+2,-400*x],[-400*x,200]]\n",
    "    df = [-400*x*(y-x**2)-2*(1-x),200*(y-x**2)]\n",
    "    return H,df\n",
    "def S(x,y):\n",
    "    det = (Hes(x,y)[0][0][0]*Hes(x,y)[0][1][1]-Hes(x,y)[0][1][0]*Hes(x,y)[0][0][1])\n",
    "    s0 = 1/det*(Hes(x,y)[0][1][0]*Hes(x,y)[1][1]-Hes(x,y)[0][1][1]*Hes(x,y)[1][0])\n",
    "    s1 = 1/det*(Hes(x,y)[0][0][1]*Hes(x,y)[1][0]-Hes(x,y)[0][0][0]*Hes(x,y)[1][1])\n",
    "    return s0,s1\n",
    "\n",
    "iter = 0\n",
    "def NM2(x,y,it):\n",
    "    x_k0,y_k0 = x,y\n",
    "    it+=1\n",
    "    x_k1,y_k1 = x_k0+S(x_k0,y_k0)[0],y_k0+S(x_k0,y_k0)[1]\n",
    "    if np.sqrt((x_k1-x_k0)**2+(y_k1-y_k0)**2)<1e-5:\n",
    "        return x_k1,y_k1,it\n",
    "    else:\n",
    "        return NM2(x_k1,y_k1,it)\n",
    "NM2(-5,2,iter)"
   ]
  }
 ],
 "metadata": {
  "kernelspec": {
   "display_name": "Python 3",
   "language": "python",
   "name": "python3"
  },
  "language_info": {
   "codemirror_mode": {
    "name": "ipython",
    "version": 3
   },
   "file_extension": ".py",
   "mimetype": "text/x-python",
   "name": "python",
   "nbconvert_exporter": "python",
   "pygments_lexer": "ipython3",
   "version": "3.7.1"
  }
 },
 "nbformat": 4,
 "nbformat_minor": 2
}
