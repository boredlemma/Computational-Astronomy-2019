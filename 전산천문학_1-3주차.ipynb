{
 "cells": [
  {
   "cell_type": "code",
   "execution_count": 1,
   "metadata": {},
   "outputs": [
    {
     "name": "stdout",
     "output_type": "stream",
     "text": [
      "2.23606797749979\n"
     ]
    }
   ],
   "source": [
    "import numpy as np\n",
    "a=np.sqrt(5)\n",
    "print(a)"
   ]
  },
  {
   "cell_type": "code",
   "execution_count": 3,
   "metadata": {},
   "outputs": [
    {
     "name": "stdout",
     "output_type": "stream",
     "text": [
      "5\n"
     ]
    },
    {
     "data": {
      "text/plain": [
       "2.23606797749979"
      ]
     },
     "execution_count": 3,
     "metadata": {},
     "output_type": "execute_result"
    }
   ],
   "source": [
    "import numpy as np\n",
    "a=np.array(5)\n",
    "print(a)\n",
    "np.sqrt(5)"
   ]
  },
  {
   "cell_type": "code",
   "execution_count": 4,
   "metadata": {},
   "outputs": [
    {
     "data": {
      "text/plain": [
       "(3,)"
      ]
     },
     "execution_count": 4,
     "metadata": {},
     "output_type": "execute_result"
    }
   ],
   "source": [
    "import numpy as np\n",
    "a = np.array([2,3,4,])\n",
    "a.shape"
   ]
  },
  {
   "cell_type": "code",
   "execution_count": 5,
   "metadata": {},
   "outputs": [
    {
     "data": {
      "text/plain": [
       "dtype('int64')"
      ]
     },
     "execution_count": 5,
     "metadata": {},
     "output_type": "execute_result"
    }
   ],
   "source": [
    "a.dtype"
   ]
  },
  {
   "cell_type": "code",
   "execution_count": 6,
   "metadata": {},
   "outputs": [
    {
     "data": {
      "text/plain": [
       "dtype('float64')"
      ]
     },
     "execution_count": 6,
     "metadata": {},
     "output_type": "execute_result"
    }
   ],
   "source": [
    "b = np.array([1.2 ,3.4, 5.6])\n",
    "b.dtype"
   ]
  },
  {
   "cell_type": "code",
   "execution_count": 7,
   "metadata": {},
   "outputs": [],
   "source": [
    "def f(x) : \n",
    "    a = x*x\n",
    "    return a"
   ]
  },
  {
   "cell_type": "code",
   "execution_count": 8,
   "metadata": {},
   "outputs": [
    {
     "data": {
      "text/plain": [
       "9"
      ]
     },
     "execution_count": 8,
     "metadata": {},
     "output_type": "execute_result"
    }
   ],
   "source": [
    "f(3)"
   ]
  },
  {
   "cell_type": "code",
   "execution_count": 9,
   "metadata": {},
   "outputs": [
    {
     "name": "stdout",
     "output_type": "stream",
     "text": [
      "9 6.25\n"
     ]
    }
   ],
   "source": [
    "print (f(3),f(2.5))"
   ]
  },
  {
   "cell_type": "code",
   "execution_count": 10,
   "metadata": {},
   "outputs": [],
   "source": [
    "def myfunc(x):\n",
    "    a=x*x\n",
    "    return (a)"
   ]
  },
  {
   "cell_type": "code",
   "execution_count": 11,
   "metadata": {},
   "outputs": [
    {
     "data": {
      "text/plain": [
       "9"
      ]
     },
     "execution_count": 11,
     "metadata": {},
     "output_type": "execute_result"
    }
   ],
   "source": [
    "myfunc(3)"
   ]
  },
  {
   "cell_type": "code",
   "execution_count": 13,
   "metadata": {},
   "outputs": [
    {
     "data": {
      "text/plain": [
       "208435163209"
      ]
     },
     "execution_count": 13,
     "metadata": {},
     "output_type": "execute_result"
    }
   ],
   "source": [
    "myfunc(456547)"
   ]
  },
  {
   "cell_type": "code",
   "execution_count": 14,
   "metadata": {},
   "outputs": [],
   "source": [
    "def myfunc2(x,y):\n",
    "    a=x*y\n",
    "    return (a)"
   ]
  },
  {
   "cell_type": "code",
   "execution_count": 15,
   "metadata": {},
   "outputs": [
    {
     "data": {
      "text/plain": [
       "12"
      ]
     },
     "execution_count": 15,
     "metadata": {},
     "output_type": "execute_result"
    }
   ],
   "source": [
    "myfunc2(3,4\n",
    "    )"
   ]
  },
  {
   "cell_type": "code",
   "execution_count": 17,
   "metadata": {},
   "outputs": [
    {
     "data": {
      "text/plain": [
       "5502209506538648297576660423716"
      ]
     },
     "execution_count": 17,
     "metadata": {},
     "output_type": "execute_result"
    }
   ],
   "source": [
    "g = lambda x : x**2\n",
    "g(2345678900987654\n",
    ")"
   ]
  },
  {
   "cell_type": "code",
   "execution_count": 18,
   "metadata": {},
   "outputs": [
    {
     "data": {
      "text/plain": [
       "8"
      ]
     },
     "execution_count": 18,
     "metadata": {},
     "output_type": "execute_result"
    }
   ],
   "source": [
    "min = (lambda x, y : x if x<y else y)\n",
    "min(8,9)"
   ]
  },
  {
   "cell_type": "code",
   "execution_count": 19,
   "metadata": {},
   "outputs": [
    {
     "data": {
      "text/plain": [
       "4567"
      ]
     },
     "execution_count": 19,
     "metadata": {},
     "output_type": "execute_result"
    }
   ],
   "source": [
    "min(4567,9870)"
   ]
  },
  {
   "cell_type": "code",
   "execution_count": 20,
   "metadata": {},
   "outputs": [
    {
     "data": {
      "text/plain": [
       "[32.0, 50.0, 68.0, 86.0]"
      ]
     },
     "execution_count": 20,
     "metadata": {},
     "output_type": "execute_result"
    }
   ],
   "source": [
    "c=[0,10,20,30]\n",
    "Fahrenheit = map (lambda x : (float (9)/5)*x+32, c)\n",
    "list(Fahrenheit)"
   ]
  },
  {
   "cell_type": "code",
   "execution_count": 22,
   "metadata": {},
   "outputs": [
    {
     "data": {
      "text/plain": [
       "228910131428177603701755406038597370992866256605996714416239305740707356279544553417171483432814473032565478203542224449422544427767103399934794267554112492152570643747783615393289357881580751887291609577050486119385936116125581404470429097773717389138692933902315347725871293766854763709974986644983264429564711070350563522040399138184502765579565271776437524767219607364330343620246397252375590392067099313695524738912790075431862503208410123955197790844902368915156543066869228757701257705464810732957386428986999720416931970101723139791242081350688640076611213184787464723604890702270021713895829613969276994985014364487678263308362490038590335423610626980191000005473125921597417923940324803866846904812245997039463026449953790335867383604239048081272376364499889154174619381286132139726802541904422153396907189539634801218849822748376475140814390481137971610636651543538899732162561295745248744175743178153962997058705210024539453107059157058925528424545393257507597364998430284303652618537241371092574259540395037079680377978341031936"
      ]
     },
     "execution_count": 22,
     "metadata": {},
     "output_type": "execute_result"
    }
   ],
   "source": [
    "int(2**3456)"
   ]
  },
  {
   "cell_type": "code",
   "execution_count": 23,
   "metadata": {},
   "outputs": [
    {
     "data": {
      "text/plain": [
       "57.0"
      ]
     },
     "execution_count": 23,
     "metadata": {},
     "output_type": "execute_result"
    }
   ],
   "source": [
    "float(57)"
   ]
  },
  {
   "cell_type": "code",
   "execution_count": 24,
   "metadata": {},
   "outputs": [
    {
     "data": {
      "text/plain": [
       "567"
      ]
     },
     "execution_count": 24,
     "metadata": {},
     "output_type": "execute_result"
    }
   ],
   "source": [
    "int(567.876)"
   ]
  },
  {
   "cell_type": "code",
   "execution_count": 26,
   "metadata": {},
   "outputs": [
    {
     "name": "stdout",
     "output_type": "stream",
     "text": [
      "(3+2j)\n"
     ]
    }
   ],
   "source": [
    "a=complex(3,2)\n",
    "print(a)"
   ]
  },
  {
   "cell_type": "code",
   "execution_count": 27,
   "metadata": {},
   "outputs": [
    {
     "data": {
      "text/plain": [
       "(3.0, 2.0)"
      ]
     },
     "execution_count": 27,
     "metadata": {},
     "output_type": "execute_result"
    }
   ],
   "source": [
    "a.real, a.imag"
   ]
  },
  {
   "cell_type": "code",
   "execution_count": 28,
   "metadata": {},
   "outputs": [],
   "source": [
    "b=3+4j"
   ]
  },
  {
   "cell_type": "code",
   "execution_count": 29,
   "metadata": {},
   "outputs": [
    {
     "data": {
      "text/plain": [
       "complex"
      ]
     },
     "execution_count": 29,
     "metadata": {},
     "output_type": "execute_result"
    }
   ],
   "source": [
    "type(b)"
   ]
  },
  {
   "cell_type": "code",
   "execution_count": 30,
   "metadata": {},
   "outputs": [
    {
     "data": {
      "text/plain": [
       "4.0"
      ]
     },
     "execution_count": 30,
     "metadata": {},
     "output_type": "execute_result"
    }
   ],
   "source": [
    "b.imag"
   ]
  },
  {
   "cell_type": "code",
   "execution_count": 31,
   "metadata": {},
   "outputs": [
    {
     "data": {
      "text/plain": [
       "1.8"
      ]
     },
     "execution_count": 31,
     "metadata": {},
     "output_type": "execute_result"
    }
   ],
   "source": [
    "9/5"
   ]
  },
  {
   "cell_type": "code",
   "execution_count": 32,
   "metadata": {},
   "outputs": [
    {
     "data": {
      "text/plain": [
       "1"
      ]
     },
     "execution_count": 32,
     "metadata": {},
     "output_type": "execute_result"
    }
   ],
   "source": [
    "9//5"
   ]
  },
  {
   "cell_type": "code",
   "execution_count": 33,
   "metadata": {},
   "outputs": [
    {
     "data": {
      "text/plain": [
       "1.0"
      ]
     },
     "execution_count": 33,
     "metadata": {},
     "output_type": "execute_result"
    }
   ],
   "source": [
    "9.0//5"
   ]
  },
  {
   "cell_type": "code",
   "execution_count": 34,
   "metadata": {},
   "outputs": [
    {
     "name": "stdout",
     "output_type": "stream",
     "text": [
      "마라샹궈 먹고싶다\n"
     ]
    }
   ],
   "source": [
    "a='마라샹궈 먹고싶다'\n",
    "print(a)"
   ]
  },
  {
   "cell_type": "code",
   "execution_count": 35,
   "metadata": {},
   "outputs": [],
   "source": [
    "id='2013-10963'"
   ]
  },
  {
   "cell_type": "code",
   "execution_count": 36,
   "metadata": {},
   "outputs": [
    {
     "name": "stdout",
     "output_type": "stream",
     "text": [
      "2013-10963\n"
     ]
    }
   ],
   "source": [
    "print(id)"
   ]
  },
  {
   "cell_type": "code",
   "execution_count": 37,
   "metadata": {},
   "outputs": [],
   "source": [
    "pie=3.14159265"
   ]
  },
  {
   "cell_type": "code",
   "execution_count": 38,
   "metadata": {},
   "outputs": [],
   "source": [
    "a='123'\n",
    "x=int(a)+1"
   ]
  },
  {
   "cell_type": "code",
   "execution_count": 39,
   "metadata": {},
   "outputs": [],
   "source": [
    "y=float(pie)+1"
   ]
  },
  {
   "cell_type": "code",
   "execution_count": 40,
   "metadata": {},
   "outputs": [
    {
     "name": "stdout",
     "output_type": "stream",
     "text": [
      "124 4.14159265\n"
     ]
    }
   ],
   "source": [
    "print(x,y)"
   ]
  },
  {
   "cell_type": "code",
   "execution_count": 41,
   "metadata": {},
   "outputs": [
    {
     "data": {
      "text/plain": [
       "126"
      ]
     },
     "execution_count": 41,
     "metadata": {},
     "output_type": "execute_result"
    }
   ],
   "source": [
    "int(a)+int(float(pie))"
   ]
  },
  {
   "cell_type": "code",
   "execution_count": 42,
   "metadata": {},
   "outputs": [
    {
     "data": {
      "text/plain": [
       "'마라샹궈 먹고싶다'"
      ]
     },
     "execution_count": 42,
     "metadata": {},
     "output_type": "execute_result"
    }
   ],
   "source": [
    "mara='마라샹궈'\n",
    "eat='먹고싶다'\n",
    "mara+\" \"+eat"
   ]
  },
  {
   "cell_type": "code",
   "execution_count": 43,
   "metadata": {},
   "outputs": [
    {
     "data": {
      "text/plain": [
       "str"
      ]
     },
     "execution_count": 43,
     "metadata": {},
     "output_type": "execute_result"
    }
   ],
   "source": [
    "type(mara)"
   ]
  },
  {
   "cell_type": "code",
   "execution_count": 44,
   "metadata": {},
   "outputs": [
    {
     "data": {
      "text/plain": [
       "'78.098'"
      ]
     },
     "execution_count": 44,
     "metadata": {},
     "output_type": "execute_result"
    }
   ],
   "source": [
    "a=78.098\n",
    "str(a)"
   ]
  },
  {
   "cell_type": "code",
   "execution_count": 48,
   "metadata": {},
   "outputs": [
    {
     "data": {
      "text/plain": [
       "'The value of pi is approximately  3.14159'"
      ]
     },
     "execution_count": 48,
     "metadata": {},
     "output_type": "execute_result"
    }
   ],
   "source": [
    "import numpy as np\n",
    "'The value of {} is approximately {: .5f}' .format('pi',np.pi)"
   ]
  },
  {
   "cell_type": "code",
   "execution_count": 55,
   "metadata": {},
   "outputs": [
    {
     "data": {
      "text/plain": [
       "'3.45679e+06'"
      ]
     },
     "execution_count": 55,
     "metadata": {},
     "output_type": "execute_result"
    }
   ],
   "source": [
    "\"{0:5g}\" .format(3456789.987654)"
   ]
  },
  {
   "cell_type": "code",
   "execution_count": 56,
   "metadata": {},
   "outputs": [],
   "source": [
    "a=[1,2,3,4,5]"
   ]
  },
  {
   "cell_type": "code",
   "execution_count": 57,
   "metadata": {},
   "outputs": [
    {
     "data": {
      "text/plain": [
       "[1, 2, 3, 100, 5]"
      ]
     },
     "execution_count": 57,
     "metadata": {},
     "output_type": "execute_result"
    }
   ],
   "source": [
    "type(a)\n",
    "a[0]\n",
    "a[3]=100\n",
    "a"
   ]
  },
  {
   "cell_type": "code",
   "execution_count": 58,
   "metadata": {},
   "outputs": [
    {
     "data": {
      "text/plain": [
       "list"
      ]
     },
     "execution_count": 58,
     "metadata": {},
     "output_type": "execute_result"
    }
   ],
   "source": [
    "type(a)"
   ]
  },
  {
   "cell_type": "code",
   "execution_count": 59,
   "metadata": {},
   "outputs": [
    {
     "data": {
      "text/plain": [
       "5"
      ]
     },
     "execution_count": 59,
     "metadata": {},
     "output_type": "execute_result"
    }
   ],
   "source": [
    "len(a)"
   ]
  },
  {
   "cell_type": "code",
   "execution_count": 60,
   "metadata": {},
   "outputs": [],
   "source": [
    "x=[ ]"
   ]
  },
  {
   "cell_type": "code",
   "execution_count": 61,
   "metadata": {},
   "outputs": [
    {
     "data": {
      "text/plain": [
       "list"
      ]
     },
     "execution_count": 61,
     "metadata": {},
     "output_type": "execute_result"
    }
   ],
   "source": [
    "type(x)"
   ]
  },
  {
   "cell_type": "code",
   "execution_count": 64,
   "metadata": {},
   "outputs": [
    {
     "data": {
      "text/plain": [
       "[0, 1, 2, 3, 4, 5]"
      ]
     },
     "execution_count": 64,
     "metadata": {},
     "output_type": "execute_result"
    }
   ],
   "source": [
    "list(range(6))"
   ]
  },
  {
   "cell_type": "code",
   "execution_count": 72,
   "metadata": {},
   "outputs": [
    {
     "data": {
      "text/plain": [
       "[0, 1, 2, 3, 4, 5]"
      ]
     },
     "execution_count": 72,
     "metadata": {},
     "output_type": "execute_result"
    }
   ],
   "source": [
    "a=range(6)\n",
    "list(a)"
   ]
  },
  {
   "cell_type": "code",
   "execution_count": 73,
   "metadata": {},
   "outputs": [],
   "source": [
    "b=range(20,0,-2)"
   ]
  },
  {
   "cell_type": "code",
   "execution_count": 75,
   "metadata": {},
   "outputs": [
    {
     "data": {
      "text/plain": [
       "[20, 18, 16, 14, 12, 10, 8, 6, 4, 2, 0, -2, -4, -6]"
      ]
     },
     "execution_count": 75,
     "metadata": {},
     "output_type": "execute_result"
    }
   ],
   "source": [
    "list(b)"
   ]
  },
  {
   "cell_type": "code",
   "execution_count": 76,
   "metadata": {},
   "outputs": [
    {
     "name": "stdout",
     "output_type": "stream",
     "text": [
      "1\n",
      "2\n",
      "4\n",
      "8\n",
      "16\n"
     ]
    }
   ],
   "source": [
    "for i in range(5) : \n",
    "    print(2**i)"
   ]
  },
  {
   "cell_type": "code",
   "execution_count": 77,
   "metadata": {},
   "outputs": [
    {
     "name": "stdout",
     "output_type": "stream",
     "text": [
      "1\n",
      "2\n",
      "4\n",
      "8\n",
      "16\n"
     ]
    }
   ],
   "source": [
    "for n in [0,1,2,3,4] :\n",
    "    print (2**n)"
   ]
  },
  {
   "cell_type": "code",
   "execution_count": 78,
   "metadata": {},
   "outputs": [],
   "source": [
    "x=range(0,20,2)"
   ]
  },
  {
   "cell_type": "code",
   "execution_count": 79,
   "metadata": {},
   "outputs": [
    {
     "data": {
      "text/plain": [
       "[0, 2, 4, 6, 8, 10, 12, 14, 16, 18]"
      ]
     },
     "execution_count": 79,
     "metadata": {},
     "output_type": "execute_result"
    }
   ],
   "source": [
    "list(x)"
   ]
  },
  {
   "cell_type": "code",
   "execution_count": 83,
   "metadata": {},
   "outputs": [
    {
     "data": {
      "text/plain": [
       "[6, 8, 10, 12, 14, 16, 18]"
      ]
     },
     "execution_count": 83,
     "metadata": {},
     "output_type": "execute_result"
    }
   ],
   "source": [
    "list(x[3:])"
   ]
  },
  {
   "cell_type": "code",
   "execution_count": 84,
   "metadata": {},
   "outputs": [
    {
     "data": {
      "text/plain": [
       "range(4, 20, 2)"
      ]
     },
     "execution_count": 84,
     "metadata": {},
     "output_type": "execute_result"
    }
   ],
   "source": [
    "x[2:]"
   ]
  },
  {
   "cell_type": "code",
   "execution_count": 85,
   "metadata": {},
   "outputs": [
    {
     "data": {
      "text/plain": [
       "18"
      ]
     },
     "execution_count": 85,
     "metadata": {},
     "output_type": "execute_result"
    }
   ],
   "source": [
    "x[-1]"
   ]
  },
  {
   "cell_type": "code",
   "execution_count": 86,
   "metadata": {},
   "outputs": [],
   "source": [
    "y=range(20)"
   ]
  },
  {
   "cell_type": "code",
   "execution_count": 87,
   "metadata": {},
   "outputs": [
    {
     "data": {
      "text/plain": [
       "[0, 1, 2, 3, 4, 5, 6, 7, 8, 9, 10, 11, 12, 13, 14, 15, 16, 17, 18, 19]"
      ]
     },
     "execution_count": 87,
     "metadata": {},
     "output_type": "execute_result"
    }
   ],
   "source": [
    "list(y)"
   ]
  },
  {
   "cell_type": "code",
   "execution_count": 88,
   "metadata": {},
   "outputs": [
    {
     "data": {
      "text/plain": [
       "[0, 2, 4, 6, 8, 10, 12, 14]"
      ]
     },
     "execution_count": 88,
     "metadata": {},
     "output_type": "execute_result"
    }
   ],
   "source": [
    "z=y[0:16:2]\n",
    "list(z)"
   ]
  },
  {
   "cell_type": "code",
   "execution_count": 89,
   "metadata": {},
   "outputs": [
    {
     "data": {
      "text/plain": [
       "[19, 18, 17, 16, 15, 14, 13, 12, 11, 10, 9, 8, 7, 6, 5, 4, 3, 2, 1, 0]"
      ]
     },
     "execution_count": 89,
     "metadata": {},
     "output_type": "execute_result"
    }
   ],
   "source": [
    "list(y[len(y)::-1])"
   ]
  },
  {
   "cell_type": "code",
   "execution_count": 92,
   "metadata": {},
   "outputs": [
    {
     "data": {
      "text/plain": [
       "[0,\n",
       " 1,\n",
       " 2,\n",
       " 3,\n",
       " 4,\n",
       " 5,\n",
       " 6,\n",
       " 7,\n",
       " 8,\n",
       " 9,\n",
       " 10,\n",
       " 11,\n",
       " 12,\n",
       " 13,\n",
       " 14,\n",
       " 15,\n",
       " 16,\n",
       " 17,\n",
       " 18,\n",
       " 19,\n",
       " 3,\n",
       " 4,\n",
       " 5,\n",
       " 67,\n",
       " 987]"
      ]
     },
     "execution_count": 92,
     "metadata": {},
     "output_type": "execute_result"
    }
   ],
   "source": [
    "list(y)+[3,4,5,67,987]"
   ]
  },
  {
   "cell_type": "code",
   "execution_count": 93,
   "metadata": {},
   "outputs": [],
   "source": [
    "x=[3,6,8,9]\n",
    "x.append(999)"
   ]
  },
  {
   "cell_type": "code",
   "execution_count": 94,
   "metadata": {},
   "outputs": [
    {
     "data": {
      "text/plain": [
       "[3, 6, 8, 9, 999]"
      ]
     },
     "execution_count": 94,
     "metadata": {},
     "output_type": "execute_result"
    }
   ],
   "source": [
    "x"
   ]
  },
  {
   "cell_type": "code",
   "execution_count": 95,
   "metadata": {},
   "outputs": [],
   "source": [
    "x.extend([10,11,12])"
   ]
  },
  {
   "cell_type": "code",
   "execution_count": 96,
   "metadata": {},
   "outputs": [
    {
     "data": {
      "text/plain": [
       "[3, 6, 8, 9, 999, 10, 11, 12]"
      ]
     },
     "execution_count": 96,
     "metadata": {},
     "output_type": "execute_result"
    }
   ],
   "source": [
    "x"
   ]
  },
  {
   "cell_type": "code",
   "execution_count": 97,
   "metadata": {},
   "outputs": [
    {
     "data": {
      "text/plain": [
       "[100, 3, 6, 8, 9, 999, 10, 11, 12]"
      ]
     },
     "execution_count": 97,
     "metadata": {},
     "output_type": "execute_result"
    }
   ],
   "source": [
    "x.insert(0,100)\n",
    "x"
   ]
  },
  {
   "cell_type": "code",
   "execution_count": 98,
   "metadata": {},
   "outputs": [],
   "source": [
    "x.remove(100)"
   ]
  },
  {
   "cell_type": "code",
   "execution_count": 99,
   "metadata": {},
   "outputs": [
    {
     "data": {
      "text/plain": [
       "[3, 6, 8, 9, 999, 10, 11, 12]"
      ]
     },
     "execution_count": 99,
     "metadata": {},
     "output_type": "execute_result"
    }
   ],
   "source": [
    "x"
   ]
  },
  {
   "cell_type": "code",
   "execution_count": 101,
   "metadata": {},
   "outputs": [
    {
     "data": {
      "text/plain": [
       "[3, 6, 8, 999, 10, 11, 12]"
      ]
     },
     "execution_count": 101,
     "metadata": {},
     "output_type": "execute_result"
    }
   ],
   "source": [
    "x.pop(3)\n",
    "x"
   ]
  },
  {
   "cell_type": "code",
   "execution_count": 102,
   "metadata": {},
   "outputs": [
    {
     "data": {
      "text/plain": [
       "[6, 8, 999, 10, 11, 12]"
      ]
     },
     "execution_count": 102,
     "metadata": {},
     "output_type": "execute_result"
    }
   ],
   "source": [
    "x.pop(0)\n",
    "x"
   ]
  },
  {
   "cell_type": "code",
   "execution_count": 104,
   "metadata": {},
   "outputs": [
    {
     "data": {
      "text/plain": [
       "[6, 8, 999, 10, 11]"
      ]
     },
     "execution_count": 104,
     "metadata": {},
     "output_type": "execute_result"
    }
   ],
   "source": [
    "x.pop()\n",
    "x"
   ]
  },
  {
   "cell_type": "code",
   "execution_count": 107,
   "metadata": {},
   "outputs": [
    {
     "data": {
      "text/plain": [
       "array([0., 0., 0., 0.])"
      ]
     },
     "execution_count": 107,
     "metadata": {},
     "output_type": "execute_result"
    }
   ],
   "source": [
    "import numpy as np\n",
    "np.zeros(4)"
   ]
  },
  {
   "cell_type": "code",
   "execution_count": 108,
   "metadata": {},
   "outputs": [],
   "source": [
    "a=np.ones(3)"
   ]
  },
  {
   "cell_type": "code",
   "execution_count": 109,
   "metadata": {},
   "outputs": [
    {
     "data": {
      "text/plain": [
       "array([1., 1., 1.])"
      ]
     },
     "execution_count": 109,
     "metadata": {},
     "output_type": "execute_result"
    }
   ],
   "source": [
    "a"
   ]
  },
  {
   "cell_type": "code",
   "execution_count": 110,
   "metadata": {},
   "outputs": [
    {
     "data": {
      "text/plain": [
       "array([[0., 0., 0., 0., 0.],\n",
       "       [0., 0., 0., 0., 0.],\n",
       "       [0., 0., 0., 0., 0.]])"
      ]
     },
     "execution_count": 110,
     "metadata": {},
     "output_type": "execute_result"
    }
   ],
   "source": [
    "a=np.zeros((3,5))\n",
    "a"
   ]
  },
  {
   "cell_type": "code",
   "execution_count": 111,
   "metadata": {},
   "outputs": [],
   "source": [
    "b=np.ones((3,6))"
   ]
  },
  {
   "cell_type": "code",
   "execution_count": 112,
   "metadata": {},
   "outputs": [
    {
     "data": {
      "text/plain": [
       "array([[1., 1., 1., 1., 1., 1.],\n",
       "       [1., 1., 1., 1., 1., 1.],\n",
       "       [1., 1., 1., 1., 1., 1.]])"
      ]
     },
     "execution_count": 112,
     "metadata": {},
     "output_type": "execute_result"
    }
   ],
   "source": [
    "b"
   ]
  },
  {
   "cell_type": "code",
   "execution_count": 113,
   "metadata": {},
   "outputs": [
    {
     "data": {
      "text/plain": [
       "array([[[0., 0., 0., 0.],\n",
       "        [0., 0., 0., 0.],\n",
       "        [0., 0., 0., 0.]],\n",
       "\n",
       "       [[0., 0., 0., 0.],\n",
       "        [0., 0., 0., 0.],\n",
       "        [0., 0., 0., 0.]]])"
      ]
     },
     "execution_count": 113,
     "metadata": {},
     "output_type": "execute_result"
    }
   ],
   "source": [
    "A=np.zeros((2,3,4))\n",
    "A"
   ]
  },
  {
   "cell_type": "code",
   "execution_count": 114,
   "metadata": {},
   "outputs": [
    {
     "data": {
      "text/plain": [
       "array([[1., 0., 0.],\n",
       "       [0., 1., 0.],\n",
       "       [0., 0., 1.]])"
      ]
     },
     "execution_count": 114,
     "metadata": {},
     "output_type": "execute_result"
    }
   ],
   "source": [
    "np.eye(3)"
   ]
  },
  {
   "cell_type": "code",
   "execution_count": 115,
   "metadata": {},
   "outputs": [
    {
     "data": {
      "text/plain": [
       "(2, 3, 4)"
      ]
     },
     "execution_count": 115,
     "metadata": {},
     "output_type": "execute_result"
    }
   ],
   "source": [
    "np.shape(A)"
   ]
  },
  {
   "cell_type": "code",
   "execution_count": 116,
   "metadata": {},
   "outputs": [
    {
     "data": {
      "text/plain": [
       "24"
      ]
     },
     "execution_count": 116,
     "metadata": {},
     "output_type": "execute_result"
    }
   ],
   "source": [
    "np.size(A)"
   ]
  },
  {
   "cell_type": "code",
   "execution_count": 120,
   "metadata": {},
   "outputs": [
    {
     "data": {
      "text/plain": [
       "6"
      ]
     },
     "execution_count": 120,
     "metadata": {},
     "output_type": "execute_result"
    }
   ],
   "source": [
    "a=np.arange(4)\n",
    "np.sum(a)"
   ]
  },
  {
   "cell_type": "code",
   "execution_count": 121,
   "metadata": {},
   "outputs": [
    {
     "data": {
      "text/plain": [
       "1.118033988749895"
      ]
     },
     "execution_count": 121,
     "metadata": {},
     "output_type": "execute_result"
    }
   ],
   "source": [
    "np.std(a)"
   ]
  },
  {
   "cell_type": "code",
   "execution_count": 122,
   "metadata": {},
   "outputs": [],
   "source": [
    "a=[21,2,3,4,76]"
   ]
  },
  {
   "cell_type": "code",
   "execution_count": 123,
   "metadata": {},
   "outputs": [
    {
     "data": {
      "text/plain": [
       "[21, 2, 3, 4, 76, 21, 2, 3, 4, 76]"
      ]
     },
     "execution_count": 123,
     "metadata": {},
     "output_type": "execute_result"
    }
   ],
   "source": [
    "2*a"
   ]
  },
  {
   "cell_type": "code",
   "execution_count": 124,
   "metadata": {},
   "outputs": [],
   "source": [
    "b=np.array(a)"
   ]
  },
  {
   "cell_type": "code",
   "execution_count": 125,
   "metadata": {},
   "outputs": [
    {
     "data": {
      "text/plain": [
       "array([ 42,   4,   6,   8, 152])"
      ]
     },
     "execution_count": 125,
     "metadata": {},
     "output_type": "execute_result"
    }
   ],
   "source": [
    "2*b"
   ]
  },
  {
   "cell_type": "code",
   "execution_count": 134,
   "metadata": {},
   "outputs": [
    {
     "data": {
      "text/plain": [
       "array([0, 1, 2, 3, 4])"
      ]
     },
     "execution_count": 134,
     "metadata": {},
     "output_type": "execute_result"
    }
   ],
   "source": [
    "np.arange(5)"
   ]
  },
  {
   "cell_type": "code",
   "execution_count": 135,
   "metadata": {},
   "outputs": [
    {
     "data": {
      "text/plain": [
       "array([ 0.,  2.,  4.,  6.,  8., 10.])"
      ]
     },
     "execution_count": 135,
     "metadata": {},
     "output_type": "execute_result"
    }
   ],
   "source": [
    "np.linspace(0,10,6)"
   ]
  },
  {
   "cell_type": "code",
   "execution_count": 136,
   "metadata": {},
   "outputs": [
    {
     "data": {
      "text/plain": [
       "array([ 0.        ,  1.66666667,  3.33333333,  5.        ,  6.66666667,\n",
       "        8.33333333, 10.        ])"
      ]
     },
     "execution_count": 136,
     "metadata": {},
     "output_type": "execute_result"
    }
   ],
   "source": [
    "np.linspace(0,10,7)"
   ]
  },
  {
   "cell_type": "code",
   "execution_count": 137,
   "metadata": {},
   "outputs": [
    {
     "data": {
      "text/plain": [
       "bool"
      ]
     },
     "execution_count": 137,
     "metadata": {},
     "output_type": "execute_result"
    }
   ],
   "source": [
    "type(True)"
   ]
  },
  {
   "cell_type": "code",
   "execution_count": 138,
   "metadata": {},
   "outputs": [
    {
     "data": {
      "text/plain": [
       "(False, True)"
      ]
     },
     "execution_count": 138,
     "metadata": {},
     "output_type": "execute_result"
    }
   ],
   "source": [
    "bool(0),bool(1)"
   ]
  },
  {
   "cell_type": "code",
   "execution_count": 141,
   "metadata": {},
   "outputs": [
    {
     "data": {
      "text/plain": [
       "(False, True)"
      ]
     },
     "execution_count": 141,
     "metadata": {},
     "output_type": "execute_result"
    }
   ],
   "source": [
    "bool([ ]) , bool([1,2,3])"
   ]
  },
  {
   "cell_type": "markdown",
   "metadata": {},
   "source": [
    "3>2"
   ]
  },
  {
   "cell_type": "code",
   "execution_count": 142,
   "metadata": {},
   "outputs": [
    {
     "data": {
      "text/plain": [
       "True"
      ]
     },
     "execution_count": 142,
     "metadata": {},
     "output_type": "execute_result"
    }
   ],
   "source": [
    "3>2"
   ]
  },
  {
   "cell_type": "code",
   "execution_count": 143,
   "metadata": {},
   "outputs": [
    {
     "data": {
      "text/plain": [
       "(2, 0)"
      ]
     },
     "execution_count": 143,
     "metadata": {},
     "output_type": "execute_result"
    }
   ],
   "source": [
    "True+1,False*5"
   ]
  },
  {
   "cell_type": "code",
   "execution_count": 1,
   "metadata": {},
   "outputs": [
    {
     "name": "stdout",
     "output_type": "stream",
     "text": [
      "1 1\n",
      "2 8\n",
      "3 27\n",
      "4 64\n",
      "5 125\n",
      "6 216\n",
      "7 343\n",
      "8 512\n",
      "9 729\n",
      "10 1000\n",
      "11 1331\n",
      "12 1728\n",
      "13 2197\n",
      "14 2744\n",
      "15 3375\n",
      "16 4096\n",
      "17 4913\n",
      "18 5832\n",
      "19 6859\n",
      "20 8000\n"
     ]
    }
   ],
   "source": [
    "for i in range (1,21) : print(i,i**3)"
   ]
  },
  {
   "cell_type": "code",
   "execution_count": 15,
   "metadata": {},
   "outputs": [
    {
     "ename": "SyntaxError",
     "evalue": "invalid syntax (<ipython-input-15-8f66294add40>, line 5)",
     "output_type": "error",
     "traceback": [
      "\u001b[0;36m  File \u001b[0;32m\"<ipython-input-15-8f66294add40>\"\u001b[0;36m, line \u001b[0;32m5\u001b[0m\n\u001b[0;31m    print ('a={ : .4f} , x = { : .4f}'.format(a,x))\u001b[0m\n\u001b[0m        ^\u001b[0m\n\u001b[0;31mSyntaxError\u001b[0m\u001b[0;31m:\u001b[0m invalid syntax\n"
     ]
    }
   ],
   "source": [
    "import numpy as np\n",
    "b,c=2,-1\n",
    "for a in np.arange(-1,2,0.3) : \n",
    "    x=(-b+np.sqrt(b**2-4*a*c)/(2*a)\n",
    "    print ('a={ : .4f} , x = { : .4f}'.format(a,x))"
   ]
  },
  {
   "cell_type": "code",
   "execution_count": 16,
   "metadata": {},
   "outputs": [
    {
     "ename": "SyntaxError",
     "evalue": "invalid syntax (<ipython-input-16-0bf98708a285>, line 3)",
     "output_type": "error",
     "traceback": [
      "\u001b[0;36m  File \u001b[0;32m\"<ipython-input-16-0bf98708a285>\"\u001b[0;36m, line \u001b[0;32m3\u001b[0m\n\u001b[0;31m    print ('a={ : .4f} , x = { : .4f}'.format(a,x))\u001b[0m\n\u001b[0m        ^\u001b[0m\n\u001b[0;31mSyntaxError\u001b[0m\u001b[0;31m:\u001b[0m invalid syntax\n"
     ]
    }
   ],
   "source": [
    "for a in np.arange(-1,2,0.3) : \n",
    "    x=(-b+np.sqrt(b**2-4*a*c)/(2*a)\n",
    "print ('a={ : .4f} , x = { : .4f}'.format(a,x))"
   ]
  },
  {
   "cell_type": "code",
   "execution_count": 17,
   "metadata": {},
   "outputs": [
    {
     "name": "stdout",
     "output_type": "stream",
     "text": [
      "0\n",
      "3\n",
      "6\n",
      "9\n"
     ]
    }
   ],
   "source": [
    "n=0\n",
    "while n<10:\n",
    "    print(n)\n",
    "    n=n+3"
   ]
  },
  {
   "cell_type": "code",
   "execution_count": 18,
   "metadata": {},
   "outputs": [],
   "source": [
    "a,b,c,=2,2,-1"
   ]
  },
  {
   "cell_type": "code",
   "execution_count": 19,
   "metadata": {},
   "outputs": [
    {
     "name": "stdout",
     "output_type": "stream",
     "text": [
      "a=2.0000, x=0.3660\n",
      "a=1.7000, x=0.3783\n",
      "a=1.4000, x=0.3923\n",
      "a=1.1000, x=0.4083\n",
      "a=0.8000, x=0.4271\n",
      "a=0.5000, x=0.4495\n",
      "a=0.2000, x=0.4772\n",
      "a=-0.1000, x=0.5132\n",
      "a=-0.4000, x=0.5635\n",
      "a=-0.7000, x=0.6461\n"
     ]
    }
   ],
   "source": [
    "while (b**2-4*a*c>=0):\n",
    "    x=(-b+np.sqrt(b**2-4*a*c))/(2*a)\n",
    "    print('a={:.4f}, x={:.4f}'.format(a,x))\n",
    "    a-=0.3"
   ]
  },
  {
   "cell_type": "code",
   "execution_count": 20,
   "metadata": {},
   "outputs": [
    {
     "name": "stdout",
     "output_type": "stream",
     "text": [
      "0\n",
      "1\n",
      "2\n",
      "3\n",
      "4\n",
      "5\n",
      "30 15\n"
     ]
    }
   ],
   "source": [
    "sum1,sum2=0,0\n",
    "for i in range(10) :\n",
    "    if (i>5):\n",
    "        sum1+=i\n",
    "    else:\n",
    "        print(i)\n",
    "        sum2+=i\n",
    "print(sum1,sum2)"
   ]
  },
  {
   "cell_type": "code",
   "execution_count": 24,
   "metadata": {},
   "outputs": [
    {
     "name": "stdout",
     "output_type": "stream",
     "text": [
      "35\n"
     ]
    }
   ],
   "source": [
    "sum=0\n",
    "for i in range (10):\n",
    "    if (i>=5):\n",
    "            sum+=i\n",
    "print(sum)"
   ]
  },
  {
   "cell_type": "code",
   "execution_count": 27,
   "metadata": {},
   "outputs": [
    {
     "name": "stdout",
     "output_type": "stream",
     "text": [
      "374750 104650 15050 5050\n",
      "499500\n",
      "499500\n"
     ]
    }
   ],
   "source": [
    "sum1,sum2,sum3,sum4=0,0,0,0\n",
    "a=range(1000)\n",
    "for i in a:\n",
    "    if(i>=500):\n",
    "        sum1+=i\n",
    "    elif (i>200):\n",
    "        sum2+=i\n",
    "    elif (i>100):\n",
    "        sum3 +=i\n",
    "    else:\n",
    "        sum4+=i\n",
    "print(sum1,sum2,sum3,sum4)\n",
    "print(sum1+sum2+sum3+sum4)\n",
    "print(np.sum(a))"
   ]
  },
  {
   "cell_type": "code",
   "execution_count": 28,
   "metadata": {},
   "outputs": [
    {
     "name": "stdout",
     "output_type": "stream",
     "text": [
      "a is not equal to b\n"
     ]
    }
   ],
   "source": [
    "a,b=0,1\n",
    "if (a!=b):\n",
    "    print (\"a is not equal to b\")\n",
    "else:\n",
    "    print(\"a is eaula to b\")"
   ]
  },
  {
   "cell_type": "code",
   "execution_count": 31,
   "metadata": {},
   "outputs": [
    {
     "name": "stdout",
     "output_type": "stream",
     "text": [
      "10\n",
      "9\n",
      "8\n",
      "7\n",
      "6\n",
      "5\n",
      "4\n",
      "3\n",
      "2\n",
      "1\n",
      "end of data\n"
     ]
    }
   ],
   "source": [
    "for i in range (10,0,-1):\n",
    "    print(i) \n",
    "else:\n",
    "    print(\"end of data\")"
   ]
  },
  {
   "cell_type": "code",
   "execution_count": 35,
   "metadata": {},
   "outputs": [
    {
     "name": "stdout",
     "output_type": "stream",
     "text": [
      "x= 1 entering loop\n",
      "loop end\n",
      "x= 2 entering loop\n",
      "x= 2 continues...\n",
      "loop end\n"
     ]
    }
   ],
   "source": [
    "x=1\n",
    "while x<4:\n",
    "    print (\"x=\",x,\"entering loop\")\n",
    "    if x ==2:\n",
    "        print (\"x=\",x,\"continues...\")\n",
    "        x+=1\n",
    "    x+=1\n",
    "    print(\"loop end\")"
   ]
  },
  {
   "cell_type": "code",
   "execution_count": 36,
   "metadata": {},
   "outputs": [
    {
     "name": "stdout",
     "output_type": "stream",
     "text": [
      "x= 1 entering loop\n",
      "loop end\n",
      "x= 2 entering loop\n",
      "x= 2 continues...\n"
     ]
    }
   ],
   "source": [
    "x=1\n",
    "while x<4:\n",
    "    print (\"x=\",x,\"entering loop\")\n",
    "    if x ==2:\n",
    "        print (\"x=\",x,\"continues...\")\n",
    "        x+=1\n",
    "        break\n",
    "    x+=1\n",
    "    print(\"loop end\")"
   ]
  },
  {
   "cell_type": "code",
   "execution_count": 37,
   "metadata": {},
   "outputs": [
    {
     "name": "stdout",
     "output_type": "stream",
     "text": [
      "x= 1 entering loop\n",
      "loop end\n",
      "x= 2 entering loop\n",
      "x= 2 continues...\n",
      "x= 3 entering loop\n",
      "loop end\n"
     ]
    }
   ],
   "source": [
    "x=1\n",
    "while x<4:\n",
    "    print (\"x=\",x,\"entering loop\")\n",
    "    if x ==2:\n",
    "        print (\"x=\",x,\"continues...\")\n",
    "        x+=1\n",
    "        continue\n",
    "    x+=1\n",
    "    print(\"loop end\")"
   ]
  },
  {
   "cell_type": "code",
   "execution_count": 38,
   "metadata": {},
   "outputs": [],
   "source": [
    "import matplotlib.pyplot as plt"
   ]
  },
  {
   "cell_type": "code",
   "execution_count": 39,
   "metadata": {},
   "outputs": [],
   "source": [
    "import numpy as np"
   ]
  },
  {
   "cell_type": "code",
   "execution_count": 73,
   "metadata": {},
   "outputs": [],
   "source": [
    "x=np.arange(1,20)\n",
    "y=x*x"
   ]
  },
  {
   "cell_type": "code",
   "execution_count": 74,
   "metadata": {},
   "outputs": [
    {
     "data": {
      "image/png": "[encoded data removed]",
      "text/plain": [
       "<Figure size 432x288 with 1 Axes>"
      ]
     },
     "metadata": {
      "needs_background": "light"
     },
     "output_type": "display_data"
    }
   ],
   "source": [
    "plt.plot(x,y,'*', ms=20)\n",
    "plt.show()"
   ]
  },
  {
   "cell_type": "code",
   "execution_count": 75,
   "metadata": {},
   "outputs": [
    {
     "data": {
      "image/png": "[encoded data removed]",
      "text/plain": [
       "<Figure size 432x288 with 1 Axes>"
      ]
     },
     "metadata": {
      "needs_background": "light"
     },
     "output_type": "display_data"
    }
   ],
   "source": [
    "plt.plot(x,y, ':')\n",
    "plt.show()"
   ]
  },
  {
   "cell_type": "code",
   "execution_count": 96,
   "metadata": {},
   "outputs": [
    {
     "data": {
      "image/png": "[encoded data removed]",
      "text/plain": [
       "<Figure size 432x288 with 1 Axes>"
      ]
     },
     "metadata": {
      "needs_background": "light"
     },
     "output_type": "display_data"
    }
   ],
   "source": [
    "x=np.arange(1,6)\n",
    "y1=x*x\n",
    "y2=x*1.5\n",
    "\n",
    "plt.plot(x,y1,'m*-.',ms=15 ,x=np label='t=test1')\n",
    "plt.plot(x,y2,'cD:',ms=10 , label='t=test2')\n",
    "\n",
    "plt.legend(loc=2,numpoints=2)\n",
    "\n",
    "plt.xlim(0,6)\n",
    "plt.ylim(0,26)\n",
    "\n",
    "plt.xlabel('time')\n",
    "plt.ylabel('distance')\n",
    "\n",
    "plt.title('distance versus time')\n",
    "\n",
    "plt.show()"
   ]
  },
  {
   "cell_type": "code",
   "execution_count": 119,
   "metadata": {},
   "outputs": [
    {
     "data": {
      "image/png": "[encoded data removed]",
      "text/plain": [
       "<Figure size 576x576 with 1 Axes>"
      ]
     },
     "metadata": {
      "needs_background": "light"
     },
     "output_type": "display_data"
    }
   ],
   "source": [
    "# a random gaussian distribution\n",
    "# mean = 5.0\n",
    "# rms = 3.0\n",
    "# number of points = 1000\n",
    "fig=plt.figure(1,figsize=(8,8))\n",
    "data = np.random.normal(5.0, 3.0, 1000) # make a histogram of the data array\n",
    "plt.hist(data,bins=10,color='cyan',histtype='step',label='n=1 0')\n",
    "plt.hist(data,bins=30,color='navy',alpha=0.7,label='n=30') \n",
    "plt.hist(data,bins=60,color='lightblue',alpha=0.9,label='n=60')\n",
    "plt.legend()\n",
    "plt.xlabel('data')\n",
    "\n",
    "plt.savefig('output.jpg')"
   ]
  },
  {
   "cell_type": "code",
   "execution_count": 120,
   "metadata": {},
   "outputs": [
    {
     "data": {
      "image/png": "[encoded data removed]",
      "text/plain": [
       "<Figure size 360x360 with 2 Axes>"
      ]
     },
     "metadata": {
      "needs_background": "light"
     },
     "output_type": "display_data"
    }
   ],
   "source": [
    "import numpy as np\n",
    "import matplotlib.pyplot as plt\n",
    "fig=plt.figure(1,figsize=(5,5))\n",
    "x = [1, 2, 3, 4, 5] \n",
    "y1 = [1, 4, 9, 16, 25] \n",
    "y2 = [1, 3, 5, 8, 15]\n",
    "plt.subplot(211)\n",
    "plt.plot(x, y1,'bo-')\n",
    "plt.subplot(212)\n",
    "plt.plot(x, y2,'cD--')\n",
    "\n",
    "plt.savefig('output2.jpg')"
   ]
  },
  {
   "cell_type": "code",
   "execution_count": 10,
   "metadata": {},
   "outputs": [
    {
     "ename": "SyntaxError",
     "evalue": "invalid syntax (<ipython-input-10-cb90705ca4ed>, line 3)",
     "output_type": "error",
     "traceback": [
      "\u001b[0;36m  File \u001b[0;32m\"<ipython-input-10-cb90705ca4ed>\"\u001b[0;36m, line \u001b[0;32m3\u001b[0m\n\u001b[0;31m    x= np.linspace(0.995, 1.005, num=10):\u001b[0m\n\u001b[0m                                        ^\u001b[0m\n\u001b[0;31mSyntaxError\u001b[0m\u001b[0;31m:\u001b[0m invalid syntax\n"
     ]
    }
   ],
   "source": [
    "import numpy as np\n",
    "import matplotlib.pyplot as plt\n",
    "x= np.linspace(0.995, 1.005, num=10):\n",
    "    y1=(1-x)**2\n",
    "    y2=1-6*x+15*x**2-20*x**3+15*x**4-6*x**5+x**6\n",
    "plt.plot(x,y1,'bo')\n",
    "plt.plot(x,y2,'k*')\n"
   ]
  },
  {
   "cell_type": "code",
   "execution_count": 23,
   "metadata": {},
   "outputs": [
    {
     "data": {
      "text/plain": [
       "[<matplotlib.lines.Line2D at 0x11a7d8668>]"
      ]
     },
     "execution_count": 23,
     "metadata": {},
     "output_type": "execute_result"
    },
    {
     "data": {
      "image/png": "[encoded data removed]",
      "text/plain": [
       "<Figure size 432x288 with 1 Axes>"
      ]
     },
     "metadata": {
      "needs_background": "light"
     },
     "output_type": "display_data"
    }
   ],
   "source": [
    "s,c=0,0\n",
    "x=0\n",
    "for n in range(0,10000):\n",
    "    x=x+1-c\n",
    "    c=s+x-s-x\n",
    "    s+=x\n",
    "plt.plot(x,s,'b')"
   ]
  },
  {
   "cell_type": "code",
   "execution_count": 1,
   "metadata": {},
   "outputs": [],
   "source": [
    "import numpy as np\n",
    "import matplotlib.pyplot as plt"
   ]
  },
  {
   "cell_type": "code",
   "execution_count": 17,
   "metadata": {},
   "outputs": [
    {
     "data": {
      "text/plain": [
       "[<matplotlib.lines.Line2D at 0x1206e5048>]"
      ]
     },
     "execution_count": 17,
     "metadata": {},
     "output_type": "execute_result"
    },
    {
     "data": {
      "image/png": "[encoded data removed]",
      "text/plain": [
       "<Figure size 432x288 with 1 Axes>"
      ]
     },
     "metadata": {
      "needs_background": "light"
     },
     "output_type": "display_data"
    }
   ],
   "source": [
    "x=np.arange(-10,10)\n",
    "y=x**6-x-1\n",
    "plt.plot(x,y)"
   ]
  },
  {
   "cell_type": "code",
   "execution_count": 25,
   "metadata": {},
   "outputs": [
    {
     "name": "stdout",
     "output_type": "stream",
     "text": [
      "loop= 1 error= 0.5 a= 1 b= 2 c 1.5\n",
      "loop= 2 error= 0.25 a= 1 b= 1.5 c 1.25\n",
      "loop= 3 error= 0.125 a= 1 b= 1.25 c 1.125\n",
      "loop= 4 error= 0.0625 a= 1.125 b= 1.25 c 1.1875\n",
      "loop= 5 error= 0.03125 a= 1.125 b= 1.1875 c 1.15625\n",
      "loop= 6 error= 0.015625 a= 1.125 b= 1.15625 c 1.140625\n",
      "loop= 7 error= 0.0078125 a= 1.125 b= 1.140625 c 1.1328125\n",
      "loop= 8 error= 0.00390625 a= 1.1328125 b= 1.140625 c 1.13671875\n",
      "loop= 9 error= 0.001953125 a= 1.1328125 b= 1.13671875 c 1.134765625\n",
      "loop= 10 error= 0.0009765625 a= 1.1328125 b= 1.134765625 c 1.1337890625\n",
      "loop= 11 error= 0.00048828125 a= 1.1337890625 b= 1.134765625 c 1.13427734375\n",
      "loop= 12 error= 0.000244140625 a= 1.13427734375 b= 1.134765625 c 1.134521484375\n",
      "loop= 13 error= 0.0001220703125 a= 1.134521484375 b= 1.134765625 c 1.1346435546875\n",
      "loop= 14 error= 6.103515625e-05 a= 1.1346435546875 b= 1.134765625 c 1.13470458984375\n",
      "loop= 15 error= 3.0517578125e-05 a= 1.13470458984375 b= 1.134765625 c 1.134735107421875\n",
      "loop= 16 error= 1.52587890625e-05 a= 1.13470458984375 b= 1.134735107421875 c 1.1347198486328125\n",
      "loop= 17 error= 7.62939453125e-06 a= 1.1347198486328125 b= 1.134735107421875 c 1.1347274780273438\n",
      "loop= 18 error= 3.814697265625e-06 a= 1.1347198486328125 b= 1.1347274780273438 c 1.1347236633300781\n",
      "loop= 19 error= 1.9073486328125e-06 a= 1.1347236633300781 b= 1.1347274780273438 c 1.134725570678711\n",
      "loop= 20 error= 9.5367431640625e-07 a= 1.1347236633300781 b= 1.134725570678711 c 1.1347246170043945\n",
      "loop= 21 error= 4.76837158203125e-07 a= 1.1347236633300781 b= 1.1347246170043945 c 1.1347241401672363\n",
      "loop= 22 error= 2.384185791015625e-07 a= 1.1347236633300781 b= 1.1347241401672363 c 1.1347239017486572\n",
      "loop= 23 error= 1.1920928955078125e-07 a= 1.1347239017486572 b= 1.1347241401672363 c 1.1347240209579468\n",
      "loop= 24 error= 5.960464477539063e-08 a= 1.1347240209579468 b= 1.1347241401672363 c 1.1347240805625916\n",
      "loop= 25 error= 2.9802322387695312e-08 a= 1.1347240805625916 b= 1.1347241401672363 c 1.134724110364914\n",
      "loop= 26 error= 1.4901161193847656e-08 a= 1.134724110364914 b= 1.1347241401672363 c 1.1347241252660751\n",
      "loop= 27 error= 7.450580596923828e-09 a= 1.1347241252660751 b= 1.1347241401672363 c 1.1347241327166557\n",
      "loop= 28 error= 3.725290298461914e-09 a= 1.1347241327166557 b= 1.1347241401672363 c 1.134724136441946\n",
      "loop= 29 error= 1.862645149230957e-09 a= 1.134724136441946 b= 1.1347241401672363 c 1.1347241383045912\n",
      "loop= 30 error= 9.313225746154785e-10 a= 1.1347241383045912 b= 1.1347241401672363 c 1.1347241392359138\n",
      "loop= 31 error= 4.656612873077393e-10 a= 1.1347241383045912 b= 1.1347241392359138 c 1.1347241387702525\n",
      "loop= 32 error= 2.3283064365386963e-10 a= 1.1347241383045912 b= 1.1347241387702525 c 1.1347241385374218\n",
      "loop= 33 error= 1.1641532182693481e-10 a= 1.1347241383045912 b= 1.1347241385374218 c 1.1347241384210065\n",
      "loop= 34 error= 5.820766091346741e-11 a= 1.1347241383045912 b= 1.1347241384210065 c 1.1347241383627988\n"
     ]
    }
   ],
   "source": [
    "#bisection\n",
    "a=1\n",
    "b=2\n",
    "TOL=10**(-10)\n",
    "loop=0\n",
    "err=1\n",
    "\n",
    "def func(x):\n",
    "    f=x**6-x-1\n",
    "    return f\n",
    "\n",
    "while err>=TOL:\n",
    "    loop+=1\n",
    "    fa=func(a)\n",
    "    fb=func(b)\n",
    "    c=(a+b)/2\n",
    "    fc=func(c)\n",
    "    err=np.abs(c-b)\n",
    "    print('loop=',loop,'error=',err,'a=',a,'b=',b,'c',c)\n",
    "    if (fa*fc<=0):\n",
    "        b=c\n",
    "    else:\n",
    "        a=c\n",
    "    \n"
   ]
  },
  {
   "cell_type": "code",
   "execution_count": 18,
   "metadata": {},
   "outputs": [
    {
     "name": "stdout",
     "output_type": "stream",
     "text": [
      "loop= 1 error= 1.5 a= 5 b= 2 c 3.5\n",
      "loop= 2 error= 0.75 a= 3.5 b= 2 c 2.75\n",
      "loop= 3 error= 0.375 a= 3.5 b= 2.75 c 3.125\n",
      "loop= 4 error= 0.1875 a= 3.125 b= 2.75 c 2.9375\n",
      "loop= 5 error= 0.09375 a= 3.125 b= 2.9375 c 3.03125\n",
      "loop= 6 error= 0.046875 a= 3.03125 b= 2.9375 c 2.984375\n",
      "loop= 7 error= 0.0234375 a= 3.03125 b= 2.984375 c 3.0078125\n",
      "loop= 8 error= 0.01171875 a= 3.0078125 b= 2.984375 c 2.99609375\n",
      "loop= 9 error= 0.005859375 a= 3.0078125 b= 2.99609375 c 3.001953125\n",
      "loop= 10 error= 0.0029296875 a= 3.001953125 b= 2.99609375 c 2.9990234375\n",
      "loop= 11 error= 0.00146484375 a= 3.001953125 b= 2.9990234375 c 3.00048828125\n",
      "loop= 12 error= 0.000732421875 a= 3.00048828125 b= 2.9990234375 c 2.999755859375\n",
      "loop= 13 error= 0.0003662109375 a= 3.00048828125 b= 2.999755859375 c 3.0001220703125\n",
      "loop= 14 error= 0.00018310546875 a= 3.0001220703125 b= 2.999755859375 c 2.99993896484375\n",
      "loop= 15 error= 9.1552734375e-05 a= 3.0001220703125 b= 2.99993896484375 c 3.000030517578125\n",
      "loop= 16 error= 4.57763671875e-05 a= 3.000030517578125 b= 2.99993896484375 c 2.9999847412109375\n",
      "loop= 17 error= 2.288818359375e-05 a= 3.000030517578125 b= 2.9999847412109375 c 3.0000076293945312\n",
      "loop= 18 error= 1.1444091796875e-05 a= 3.0000076293945312 b= 2.9999847412109375 c 2.9999961853027344\n",
      "loop= 19 error= 5.7220458984375e-06 a= 3.0000076293945312 b= 2.9999961853027344 c 3.000001907348633\n",
      "loop= 20 error= 2.86102294921875e-06 a= 3.000001907348633 b= 2.9999961853027344 c 2.9999990463256836\n",
      "loop= 21 error= 1.430511474609375e-06 a= 3.000001907348633 b= 2.9999990463256836 c 3.000000476837158\n",
      "loop= 22 error= 7.152557373046875e-07 a= 3.000000476837158 b= 2.9999990463256836 c 2.999999761581421\n",
      "loop= 23 error= 3.5762786865234375e-07 a= 3.000000476837158 b= 2.999999761581421 c 3.0000001192092896\n",
      "loop= 24 error= 1.7881393432617188e-07 a= 3.0000001192092896 b= 2.999999761581421 c 2.9999999403953552\n",
      "loop= 25 error= 8.940696716308594e-08 a= 3.0000001192092896 b= 2.9999999403953552 c 3.0000000298023224\n"
     ]
    }
   ],
   "source": [
    "#bisection\n",
    "a=5\n",
    "b=2\n",
    "TOL=10**(-7)\n",
    "loop=0\n",
    "err=1\n",
    "\n",
    "def func(x):\n",
    "    f=x**2-x-6\n",
    "    return f\n",
    "\n",
    "while err>=TOL:\n",
    "    loop+=1\n",
    "    fa=func(a)\n",
    "    fb=func(b)\n",
    "    c=(a+b)/2\n",
    "    fc=func(c)\n",
    "    err=np.abs(c-b)\n",
    "    print('loop=',loop,'error=',err,'a=',a,'b=',b,'c',c)\n",
    "    if (fa*fc<=0):\n",
    "        b=c\n",
    "    else:\n",
    "        a=c\n",
    "    \n",
    "\n"
   ]
  },
  {
   "cell_type": "code",
   "execution_count": 20,
   "metadata": {},
   "outputs": [
    {
     "name": "stdout",
     "output_type": "stream",
     "text": [
      "loop= 1 error= 1.0 a= -1 b= 1 c 0.0\n",
      "loop= 2 error= 0.5 a= -1 b= 0.0 c -0.5\n",
      "loop= 3 error= 0.25 a= -0.5 b= 0.0 c -0.25\n",
      "loop= 4 error= 0.125 a= -0.25 b= 0.0 c -0.125\n",
      "loop= 5 error= 0.0625 a= -0.125 b= 0.0 c -0.0625\n",
      "loop= 6 error= 0.03125 a= -0.0625 b= 0.0 c -0.03125\n",
      "loop= 7 error= 0.015625 a= -0.03125 b= 0.0 c -0.015625\n",
      "loop= 8 error= 0.0078125 a= -0.015625 b= 0.0 c -0.0078125\n",
      "loop= 9 error= 0.00390625 a= -0.0078125 b= 0.0 c -0.00390625\n",
      "loop= 10 error= 0.001953125 a= -0.00390625 b= 0.0 c -0.001953125\n",
      "loop= 11 error= 0.0009765625 a= -0.001953125 b= 0.0 c -0.0009765625\n"
     ]
    }
   ],
   "source": [
    "a=-1\n",
    "b=1\n",
    "TOL=10**(-3)\n",
    "loop=0\n",
    "err=1\n",
    "\n",
    "def func(x):\n",
    "    f=x**4-x\n",
    "    return f\n",
    "\n",
    "while err>=TOL:\n",
    "    loop+=1\n",
    "    fa=func(a)\n",
    "    fb=func(b)\n",
    "    c=(a+b)/2\n",
    "    fc=func(c)\n",
    "    err=np.abs(c-b)\n",
    "    print('loop=',loop,'error=',err,'a=',a,'b=',b,'c',c)\n",
    "    if (fa*fc<=0):\n",
    "        b=c\n",
    "    else:\n",
    "        a=c"
   ]
  },
  {
   "cell_type": "code",
   "execution_count": 24,
   "metadata": {},
   "outputs": [
    {
     "name": "stdout",
     "output_type": "stream",
     "text": [
      "loop= 1 error= 0.19950911640953717 a= 1.300490883590463\n",
      "loop= 2 error= 0.11901046718752847 a= 1.1814804164029344\n",
      "loop= 3 error= 0.042024826127408044 a= 1.1394555902755263\n",
      "loop= 4 error= 0.004677965038417273 a= 1.1347776252371091\n",
      "loop= 5 error= 5.3479920891178194e-05 a= 1.134724145316218\n",
      "loop= 6 error= 6.914698418607411e-09 a= 1.1347241384015196\n",
      "loop= 7 error= 1.5108556784608984e-16 a= 1.1347241384015194\n"
     ]
    }
   ],
   "source": [
    "#NR method \n",
    "a=1.5\n",
    "TOL=10**(-10)\n",
    "loop=0\n",
    "err=1\n",
    "\n",
    "def func(x):\n",
    "    f=x**6-x-1\n",
    "    df=6*x**5-1\n",
    "    return f,df\n",
    "\n",
    "while err>=TOL:\n",
    "    loop+=1\n",
    "    f,df=func(a)\n",
    "    err=np.abs(f/df)\n",
    "    a-=f/df\n",
    "    print('loop=',loop,'error=',err,'a=',a)\n",
    "   "
   ]
  },
  {
   "cell_type": "code",
   "execution_count": 26,
   "metadata": {},
   "outputs": [
    {
     "name": "stdout",
     "output_type": "stream",
     "text": [
      "loop= 1 error= 2.625 a= 4.125\n",
      "loop= 2 error= 0.9504310344827587 a= 3.174568965517241\n",
      "loop= 3 error= 0.16887191225096546 a= 3.0056970532662755\n",
      "loop= 4 error= 0.005690576741933467 a= 3.000006476524342\n",
      "loop= 5 error= 6.476515953144624e-06 a= 3.000000000008389\n",
      "loop= 6 error= 8.388845174039534e-12 a= 3.0\n"
     ]
    }
   ],
   "source": [
    "#NR method \n",
    "a=1.5\n",
    "TOL=10**(-10)\n",
    "loop=0\n",
    "err=1\n",
    "\n",
    "def func(x):\n",
    "    f=x**2-x-6\n",
    "    df=2*x-1\n",
    "    return f,df\n",
    "\n",
    "while err>=TOL:\n",
    "    loop+=1\n",
    "    f,df=func(a)\n",
    "    err=np.abs(f/df)\n",
    "    a-=f/df\n",
    "    print('loop=',loop,'error=',err,'a=',a)\n",
    "   "
   ]
  },
  {
   "cell_type": "code",
   "execution_count": 30,
   "metadata": {},
   "outputs": [
    {
     "name": "stdout",
     "output_type": "stream",
     "text": [
      "loop= 1 error= 1.3125 a= 2.6875\n",
      "loop= 2 error= 0.8496822606814495 a= 1.8378177393185506\n",
      "loop= 3 error= 0.5139157499612159 a= 1.3239019893573347\n",
      "loop= 4 error= 0.2511196854043468 a= 1.0727823039529878\n",
      "loop= 5 error= 0.06795609910608338 a= 1.0048262048469043\n",
      "loop= 6 error= 0.0048030615789195095 a= 1.000023143267985\n",
      "loop= 7 error= 2.3142732390564343e-05 a= 1.0000000005355945\n",
      "loop= 8 error= 5.355944570997599e-10 a= 1.0\n",
      "loop= 9 error= 0.0 a= 1.0\n"
     ]
    }
   ],
   "source": [
    "#NR method \n",
    "a=4\n",
    "TOL=10**(-10)\n",
    "loop=0\n",
    "err=1\n",
    "\n",
    "def func(x):\n",
    "    f=x**3-1\n",
    "    df=3*x**2\n",
    "    return f,df\n",
    "\n",
    "while err>=TOL:\n",
    "    loop+=1\n",
    "    f,df=func(a)\n",
    "    err=np.abs(f/df)\n",
    "    a-=f/df\n",
    "    print('loop=',loop,'error=',err,'a=',a)\n",
    "   "
   ]
  },
  {
   "cell_type": "code",
   "execution_count": 34,
   "metadata": {},
   "outputs": [
    {
     "name": "stdout",
     "output_type": "stream",
     "text": [
      "loop= 1 error= 0.4494470774091628 a= 1 b= 1.5 c 1.0505529225908372\n",
      "loop= 2 error= 0.03307415232931232 a= 1.5 b= 1.0505529225908372 c 1.0836270749201495\n",
      "loop= 3 error= 0.06356016501196571 a= 1.0505529225908372 b= 1.0836270749201495 c 1.1471872399321152\n",
      "loop= 4 error= 0.014076371748132033 a= 1.0836270749201495 b= 1.1471872399321152 c 1.1331108681839832\n",
      "loop= 5 error= 0.001565318129549853 a= 1.1471872399321152 b= 1.1331108681839832 c 1.134676186313533\n",
      "loop= 6 error= 4.813947881565639e-05 a= 1.1331108681839832 b= 1.134676186313533 c 1.1347243257923487\n",
      "loop= 7 error= 1.874125521439396e-07 a= 1.134676186313533 b= 1.1347243257923487 c 1.1347241383797966\n",
      "loop= 8 error= 2.1722845744420738e-11 a= 1.1347243257923487 b= 1.1347241383797966 c 1.1347241384015194\n"
     ]
    }
   ],
   "source": [
    "#Secant method\n",
    "a=1\n",
    "b=1.5\n",
    "TOL=10**(-10)\n",
    "loop=0\n",
    "err=1\n",
    "\n",
    "def func(x):\n",
    "    f=x**6-x-1\n",
    "    return f\n",
    "\n",
    "while err>=TOL:\n",
    "    loop+=1\n",
    "    fa=func(a)\n",
    "    fb=func(b)\n",
    "    c=b-fb*(b-a)/(fb-fa)\n",
    "    err=np.abs(c-b)\n",
    "    print('loop=',loop,'error=',err,'a=',a,'b=',b,'c',c)\n",
    "    if np.abs(c-a)<TOL:\n",
    "        break\n",
    "    else:\n",
    "        a=b\n",
    "        b=c\n",
    "    \n",
    "   "
   ]
  },
  {
   "cell_type": "code",
   "execution_count": 36,
   "metadata": {},
   "outputs": [
    {
     "name": "stdout",
     "output_type": "stream",
     "text": [
      "loop= 1 error= 0.9838709677419355 a= 1 b= 2 c 1.0161290322580645\n",
      "loop= 2 error= 0.17444873641857295 a= 1 b= 1.0161290322580645 c 1.1905777686766374\n",
      "loop= 3 error= 0.10152679868348713 a= 1.1905777686766374 b= 1.0161290322580645 c 1.1176558309415516\n",
      "loop= 4 error= 0.014875719274581423 a= 1.1905777686766374 b= 1.1176558309415516 c 1.132531550216133\n",
      "loop= 5 error= 0.001915566850671846 a= 1.1905777686766374 b= 1.132531550216133 c 1.134447117066805\n",
      "loop= 6 error= 0.0002420959142352963 a= 1.1905777686766374 b= 1.134447117066805 c 1.1346892129810402\n",
      "loop= 7 error= 3.052339213804878e-05 a= 1.1905777686766374 b= 1.1346892129810402 c 1.1347197363731782\n",
      "loop= 8 error= 3.847211999419287e-06 a= 1.1905777686766374 b= 1.1347197363731782 c 1.1347235835851777\n",
      "loop= 9 error= 4.848895196474245e-07 a= 1.1905777686766374 b= 1.1347235835851777 c 1.1347240684746973\n",
      "loop= 10 error= 6.111353134663489e-08 a= 1.1905777686766374 b= 1.1347240684746973 c 1.1347241295882287\n",
      "loop= 11 error= 7.702499749129288e-09 a= 1.1905777686766374 b= 1.1347241295882287 c 1.1347241372907284\n",
      "loop= 12 error= 9.707914472301127e-10 a= 1.1905777686766374 b= 1.1347241372907284 c 1.1347241382615199\n",
      "loop= 13 error= 1.2235457091946955e-10 a= 1.1905777686766374 b= 1.1347241382615199 c 1.1347241383838744\n",
      "loop= 14 error= 1.542121985664835e-11 a= 1.1905777686766374 b= 1.1347241383838744 c 1.1347241383992956\n"
     ]
    }
   ],
   "source": [
    "#False position method \n",
    "a=1\n",
    "b=2\n",
    "TOL=10**(-10)\n",
    "loop=0\n",
    "err=1\n",
    "\n",
    "def func(x):\n",
    "    f=x**6-x-1\n",
    "    return f\n",
    "\n",
    "while err>=TOL:\n",
    "    loop+=1\n",
    "    fa=func(a)\n",
    "    fb=func(b)\n",
    "    c=b-fb*(b-a)/(fb-fa)\n",
    "    fc=func(c)\n",
    "    err=np.abs(c-b)\n",
    "    print('loop=',loop,'error=',err,'a=',a,'b=',b,'c',c)\n",
    "    if np.abs(c-a)<TOL:\n",
    "        break\n",
    "    elif fa*fb<0:\n",
    "        b=c\n",
    "    else:\n",
    "        a=c\n",
    "    \n",
    "   "
   ]
  },
  {
   "cell_type": "code",
   "execution_count": null,
   "metadata": {},
   "outputs": [],
   "source": [
    "#fixed point iteration\n"
   ]
  }
 ],
 "metadata": {
  "kernelspec": {
   "display_name": "Python 3",
   "language": "python",
   "name": "python3"
  },
  "language_info": {
   "codemirror_mode": {
    "name": "ipython",
    "version": 3
   },
   "file_extension": ".py",
   "mimetype": "text/x-python",
   "name": "python",
   "nbconvert_exporter": "python",
   "pygments_lexer": "ipython3",
   "version": "3.7.1"
  }
 },
 "nbformat": 4,
 "nbformat_minor": 2
}
