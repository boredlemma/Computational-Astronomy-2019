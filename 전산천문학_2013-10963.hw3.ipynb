{
 "cells": [
  {
   "cell_type": "markdown",
   "metadata": {},
   "source": [
    "# Problem Set #3\n",
    "### 2013-10963 Seha Lee"
   ]
  },
  {
   "cell_type": "code",
   "execution_count": 1,
   "metadata": {},
   "outputs": [],
   "source": [
    "#1 \n",
    "import numpy as np\n",
    "import matplotlib.pyplot as plt\n",
    "\n",
    "def func(x):\n",
    "    y=pow(x,4)\n",
    "    return np.sin(y)"
   ]
  },
  {
   "cell_type": "code",
   "execution_count": 2,
   "metadata": {},
   "outputs": [
    {
     "name": "stdout",
     "output_type": "stream",
     "text": [
      "n= 10 the value= -0.4550743997394941 error= -1.3113326717406293\n",
      "n= 100 the value= 0.4778474142422449 error= 1.3769549039922684\n",
      "n= 1000 the value= 0.3470181924013782 error= 0.9999602123186859\n",
      "n= 10000 the value= 0.3470319389082802 error= 0.9999998239594049\n",
      "n= 100000 the value= 0.3470320733981991 error= 1.000000211502683\n"
     ]
    }
   ],
   "source": [
    "#1(a)\n",
    "\n",
    "def trapezoid(a,b,n):\n",
    "    h=(b-a)/n\n",
    "    sum = (func(a)+func(b))/2\n",
    "    for i in range (1,n):\n",
    "        sum += func(a+i*h)\n",
    "    return h*sum\n",
    "\n",
    "\n",
    "a=0\n",
    "b=4\n",
    "true=0.347032\n",
    "\n",
    "for i in range (1,6):\n",
    "    n=pow(10,i)\n",
    "    t=trapezoid(a,b,n)\n",
    "    err=t/true\n",
    "    print('n=',n,'the value=',t,'error=',err)"
   ]
  },
  {
   "cell_type": "code",
   "execution_count": 3,
   "metadata": {},
   "outputs": [
    {
     "name": "stdout",
     "output_type": "stream",
     "text": [
      "n= 10 the value= -0.6657239139084418 error= -1.9183358131481874\n",
      "n= 100 the value= 0.6091835645586793 error= 1.7554103499351048\n",
      "n= 1000 the value= 0.3470334785954554 error= 1.0000042606890875\n",
      "n= 10000 the value= 0.34703207487290993 error= 1.0000002157521783\n",
      "n= 100000 the value= 0.34703207476355197 error= 1.0000002154370546\n"
     ]
    }
   ],
   "source": [
    "#1(b)\n",
    "\n",
    "def simpson(a,b,n):\n",
    "    h=(b-a)/n\n",
    "    x=a\n",
    "    sum=func(a)+func(b)\n",
    "    for i in range(1,n-1,2):\n",
    "        x+=h\n",
    "        sum+=4.*func(x)\n",
    "        x+=h\n",
    "        sum+=2.*func(x)\n",
    "    sum+= 4.*func(x+h)\n",
    "    sum*=(h/3)\n",
    "    return sum\n",
    "\n",
    "\n",
    "a=0\n",
    "b=4\n",
    "true=0.347032\n",
    "\n",
    "for i in range (1,6):\n",
    "    n=pow(10,i)\n",
    "    s=simpson(a,b,n)\n",
    "    err=s/true\n",
    "    print('n=',n,'the value=',s,'error=',err)"
   ]
  },
  {
   "cell_type": "code",
   "execution_count": 4,
   "metadata": {},
   "outputs": [
    {
     "name": "stdout",
     "output_type": "stream",
     "text": [
      "nodes= 1 , the value= -1.1516132666602612 error -3.3184641954063636\n",
      "nodes= 2 , the value= -1.0154850664459294 error -2.926200080816551\n",
      "nodes= 4 , the value= 1.1770736008851026 error 3.391830150778898\n",
      "nodes= 8 , the value= 0.155456975579981 error 0.4479615008989978\n",
      "nodes= 16 , the value= -0.6523526179643004 error -1.879805372312353\n",
      "nodes= 32 , the value= 0.923506454978749 error 2.661156478303871\n",
      "nodes= 64 , the value= 0.10704187584038687 error 0.308449583440106\n",
      "nodes= 128 , the value= 0.3457215663342512 error 0.9962238823343416\n",
      "nodes= 256 , the value= 0.3470320747563894 error 1.0000002154164152\n",
      "nodes= 512 , the value= 0.3470320747563789 error 1.000000215416385\n"
     ]
    }
   ],
   "source": [
    "#1(c)\n",
    "\n",
    "a=0\n",
    "b=4\n",
    "true=0.347032\n",
    "\n",
    "for i in range(0,10):\n",
    "    deg=2**i\n",
    "    x,w=np.polynomial.legendre.leggauss(deg) \n",
    "    sum=0\n",
    "    for j in range (deg):\n",
    "        sum+=w[j]*func(0.5*(a+b+x[j]*(b-a)))\n",
    "    sum*=(0.5*b-0.5*a)\n",
    "    err=sum/true\n",
    "    print('nodes=',deg, ', the value=',sum,'error',err)"
   ]
  },
  {
   "cell_type": "code",
   "execution_count": 4,
   "metadata": {},
   "outputs": [
    {
     "data": {
      "text/plain": [
       "[<matplotlib.lines.Line2D at 0x11ba0e278>]"
      ]
     },
     "execution_count": 4,
     "metadata": {},
     "output_type": "execute_result"
    },
    {
     "data": {
      "image/png": "[encoded data removed]",
      "text/plain": [
       "<Figure size 576x432 with 1 Axes>"
      ]
     },
     "metadata": {
      "needs_background": "light"
     },
     "output_type": "display_data"
    }
   ],
   "source": [
    "#2 not completed yet\n",
    "\n",
    "def func(m,p):\n",
    "    a=p*np.arctan(m*np.tan(p))\n",
    "    b=1-p/np.tan(p)\n",
    "    return a/b\n",
    "\n",
    "def simpson(a,b,n,m):\n",
    "    h=(b-a)/n\n",
    "    x=a\n",
    "    sum=func(m,b)\n",
    "    for i in range(1,n-1,2):\n",
    "        x+=h\n",
    "        sum+=4.*func(m,x)\n",
    "        x+=h\n",
    "        sum+=2.*func(m,x)\n",
    "    sum+= 4.*func(m,x+h)\n",
    "    sum*=(h/3)\n",
    "    return sum\n",
    "\n",
    "def H(m):\n",
    "    a,b=0,np.pi/2\n",
    "    n=10**6\n",
    "    return np.exp(simpson(a,b,n,m)/np.pi)/(1+m)\n",
    "\n",
    "x=[]\n",
    "y=[]\n",
    "for m in np.arange(0,1.01,0.01):\n",
    "    x.append(m)\n",
    "    y.append(H(m))\n",
    "    \n",
    "fig=plt.figure(1,figsize=(8,6))    \n",
    "plt.plot(x,y,'c*')"
   ]
  },
  {
   "cell_type": "code",
   "execution_count": 5,
   "metadata": {},
   "outputs": [],
   "source": [
    "#3\n",
    "x = [-2.1, -1.45, -1.3, -0.2, 0.1, 0.15, 0.8, 1.1, 1.5, 2.8, 3.8]\n",
    "y = [0.012155, 0.122151, 0.184520, 0.960789, 0.990050, \\\n",
    "     0.977751, 0.527292, 0.298197, 0.105399, 3.936690e-4, 5.355348e-7]"
   ]
  },
  {
   "cell_type": "code",
   "execution_count": 6,
   "metadata": {},
   "outputs": [],
   "source": [
    "#3(a) \n",
    "\n",
    "def P(x):\n",
    "    P=y0+(y1-y0)*(x-x0)/(x1-x0)\n",
    "    return P"
   ]
  },
  {
   "cell_type": "code",
   "execution_count": 7,
   "metadata": {},
   "outputs": [
    {
     "name": "stdout",
     "output_type": "stream",
     "text": [
      "0.00023641561391999984\n"
     ]
    }
   ],
   "source": [
    "#3(a) x=3.2\n",
    "x0,x1=x[9],x[10]\n",
    "y0,y1=y[9],y[10]\n",
    "\n",
    "print(P(3.2))"
   ]
  },
  {
   "cell_type": "code",
   "execution_count": 8,
   "metadata": {},
   "outputs": [
    {
     "name": "stdout",
     "output_type": "stream",
     "text": [
      "0.8044975384615385\n"
     ]
    }
   ],
   "source": [
    "#3(a) x=0.4\n",
    "x0,x1=x[5],x[6]\n",
    "y0,y1=y[5],y[6]\n",
    "\n",
    "print(P(0.4))"
   ]
  },
  {
   "cell_type": "code",
   "execution_count": 9,
   "metadata": {},
   "outputs": [
    {
     "name": "stdout",
     "output_type": "stream",
     "text": [
      "0.96781164\n"
     ]
    }
   ],
   "source": [
    "#3(a) x=-0.128\n",
    "x0,x1=x[3],x[4]\n",
    "y0,y1=y[3],y[4]\n",
    "\n",
    "print(P(-0.128))"
   ]
  },
  {
   "cell_type": "code",
   "execution_count": 10,
   "metadata": {},
   "outputs": [
    {
     "name": "stdout",
     "output_type": "stream",
     "text": [
      "0.02907746153846155\n"
     ]
    }
   ],
   "source": [
    "#3(a) x=-2.0\n",
    "x0,x1=x[0],x[1]\n",
    "y0,y1=y[0],y[1]\n",
    "\n",
    "print(P(-2.0))"
   ]
  },
  {
   "cell_type": "code",
   "execution_count": 11,
   "metadata": {},
   "outputs": [
    {
     "name": "stdout",
     "output_type": "stream",
     "text": [
      "1.0971847796443637 0.8525647942463126 0.9838925180011041 -0.04753686373454391\n"
     ]
    }
   ],
   "source": [
    "#3(b)\n",
    "\n",
    "p=np.polyfit(x,y,10)\n",
    "poly=np.poly1d(p)\n",
    "\n",
    "print(poly(3.2),poly(0.4),poly(-0.128),poly(-2.0))"
   ]
  },
  {
   "cell_type": "code",
   "execution_count": 12,
   "metadata": {},
   "outputs": [
    {
     "name": "stdout",
     "output_type": "stream",
     "text": [
      "not-a-knot\n",
      "0.020913382444461864 0.8508707001464908 0.9827112793582029 0.026816913358566518\n",
      "clmaped\n",
      "0.0030878602223043915 0.8508495579031811 0.9827512736917215 0.014588766043814271\n",
      "natural\n",
      "0.004769711225674885 0.8508498988093107 0.9827313805517449 0.020642415163977197\n"
     ]
    }
   ],
   "source": [
    "#3(c)\n",
    "from scipy import interpolate\n",
    "\n",
    "result=interpolate.CubicSpline(x,y,bc_type='not-a-knot')\n",
    "print('not-a-knot')\n",
    "print(result(3.2),result(0.4),result(-0.128),result(-2.0))\n",
    "\n",
    "result=interpolate.CubicSpline(x,y,bc_type='clamped')\n",
    "print('clmaped')\n",
    "print(result(3.2),result(0.4),result(-0.128),result(-2.0))\n",
    "\n",
    "result=interpolate.CubicSpline(x,y,bc_type='natural')\n",
    "print('natural')\n",
    "print(result(3.2),result(0.4),result(-0.128),result(-2.0))"
   ]
  },
  {
   "cell_type": "code",
   "execution_count": 13,
   "metadata": {},
   "outputs": [
    {
     "data": {
      "text/plain": [
       "[<matplotlib.lines.Line2D at 0xb1cd86828>]"
      ]
     },
     "execution_count": 13,
     "metadata": {},
     "output_type": "execute_result"
    },
    {
     "data": {
      "image/png": "[encoded data removed]",
      "text/plain": [
       "<Figure size 432x288 with 1 Axes>"
      ]
     },
     "metadata": {
      "needs_background": "light"
     },
     "output_type": "display_data"
    }
   ],
   "source": [
    "#4\n",
    "\n",
    "fn ='./Downloads/BlackHall.txt' \n",
    "y,yerr,x,xerr=np.loadtxt(fn,unpack=True,usecols=(0,1,2,3))\n",
    "plt.plot(x,y,'c*') #plot to assume the initial value; beta0"
   ]
  },
  {
   "cell_type": "code",
   "execution_count": 14,
   "metadata": {},
   "outputs": [
    {
     "name": "stdout",
     "output_type": "stream",
     "text": [
      "Beta: [-10.34267881   5.56852233]\n",
      "Beta Std Error: [2.82370713 0.52436892]\n",
      "Beta Covariance: [[ 0.00362056 -0.00067122]\n",
      " [-0.00067122  0.00012486]]\n",
      "Residual Variance: 2202.2325909598403\n",
      "Inverse Condition #: 0.009142669994375924\n",
      "Reason(s) for Halting:\n",
      "  Sum of squares convergence\n"
     ]
    },
    {
     "data": {
      "text/plain": [
       "143145.11841238962"
      ]
     },
     "execution_count": 14,
     "metadata": {},
     "output_type": "execute_result"
    }
   ],
   "source": [
    "#4(a)\n",
    "from scipy.odr import *\n",
    "\n",
    "\n",
    "def bh(p,x):\n",
    "    return np.exp(p[0]+p[1]*np.log(x))\n",
    "\n",
    "model=Model(bh)\n",
    "data=RealData(x,y)\n",
    "odr=ODR(data,model,beta0=[2,4])\n",
    "\n",
    "out=odr.run()\n",
    "out.pprint()\n",
    "out.beta\n",
    "out.sum_square"
   ]
  },
  {
   "cell_type": "code",
   "execution_count": 15,
   "metadata": {},
   "outputs": [
    {
     "name": "stdout",
     "output_type": "stream",
     "text": [
      "Beta: [-1.83908433  3.94230897]\n",
      "Beta Std Error: [2.0588227 0.4085116]\n",
      "Beta Covariance: [[ 0.26769555 -0.05296438]\n",
      " [-0.05296438  0.01053931]]\n",
      "Residual Variance: 15.834222612449016\n",
      "Inverse Condition #: 0.01266788640643407\n",
      "Reason(s) for Halting:\n",
      "  Sum of squares convergence\n"
     ]
    },
    {
     "data": {
      "text/plain": [
       "1029.2244698091863"
      ]
     },
     "execution_count": 15,
     "metadata": {},
     "output_type": "execute_result"
    }
   ],
   "source": [
    "#4(b)\n",
    "from scipy.odr import *\n",
    "\n",
    "def bh(q,x):\n",
    "    return np.exp(q[0]+q[1]*np.log(x))\n",
    "\n",
    "model=Model(bh)\n",
    "data=RealData(x,y,sx=xerr,sy=yerr)\n",
    "odr=ODR(data,model,beta0=[2,4])\n",
    "\n",
    "out=odr.run()\n",
    "out.pprint()\n",
    "out.beta\n",
    "out.sum_square"
   ]
  },
  {
   "cell_type": "code",
   "execution_count": 16,
   "metadata": {},
   "outputs": [
    {
     "data": {
      "text/plain": [
       "<matplotlib.legend.Legend at 0xc1cf00518>"
      ]
     },
     "execution_count": 16,
     "metadata": {},
     "output_type": "execute_result"
    },
    {
     "data": {
      "image/png": "[encoded data removed]",
      "text/plain": [
       "<Figure size 864x648 with 1 Axes>"
      ]
     },
     "metadata": {
      "needs_background": "light"
     },
     "output_type": "display_data"
    }
   ],
   "source": [
    "#4(c)\n",
    "\n",
    "p= [-10.34267881,   5.56852233]\n",
    "q=  [-1.83908433,  3.94230897]\n",
    "\n",
    "fig=plt.figure(1,figsize=(12,9))\n",
    "plt.plot(x,y,'co',label='data') \n",
    "plt.errorbar(x,y,xerr=xerr,yerr=yerr,fmt='c.')\n",
    "plt.plot(x,bh(p,x),'b>',label='a')\n",
    "plt.plot(x,bh(q,x),'m<',label='b')\n",
    "plt.legend(loc=2)"
   ]
  },
  {
   "cell_type": "code",
   "execution_count": 17,
   "metadata": {},
   "outputs": [
    {
     "name": "stdout",
     "output_type": "stream",
     "text": [
      "Beta: [0.46643363 0.25366241]\n",
      "Beta Std Error: [0.47405959 0.02628491]\n",
      "Beta Covariance: [[ 1.41928342e-02 -7.84212106e-04]\n",
      " [-7.84212106e-04  4.36331211e-05]]\n",
      "Residual Variance: 15.834222557202356\n",
      "Inverse Condition #: 0.004391771422167445\n",
      "Reason(s) for Halting:\n",
      "  Sum of squares convergence\n"
     ]
    },
    {
     "data": {
      "text/plain": [
       "1029.2244662181533"
      ]
     },
     "execution_count": 17,
     "metadata": {},
     "output_type": "execute_result"
    }
   ],
   "source": [
    "#4(d)\n",
    "fn ='./Downloads/BlackHall.txt' \n",
    "x,xerr,y,yerr=np.loadtxt(fn,unpack=True,usecols=(0,1,2,3))\n",
    "\n",
    "def ins(r,y):\n",
    "    return np.exp(r[0]+r[1]*np.log(y))\n",
    "\n",
    "model=Model(ins)\n",
    "data=RealData(x,y,sx=xerr,sy=yerr)\n",
    "odr=ODR(data,model,beta0=[0,0])\n",
    "\n",
    "out=odr.run()\n",
    "out.pprint()\n",
    "out.beta\n",
    "out.sum_square"
   ]
  },
  {
   "cell_type": "code",
   "execution_count": 18,
   "metadata": {},
   "outputs": [
    {
     "data": {
      "text/plain": [
       "[<matplotlib.lines.Line2D at 0xc1d1c0940>]"
      ]
     },
     "execution_count": 18,
     "metadata": {},
     "output_type": "execute_result"
    },
    {
     "data": {
      "image/png": "[encoded data removed]",
      "text/plain": [
       "<Figure size 864x648 with 1 Axes>"
      ]
     },
     "metadata": {
      "needs_background": "light"
     },
     "output_type": "display_data"
    }
   ],
   "source": [
    "#4(d)\n",
    "r=[0.46643363, 0.25366241]\n",
    "fig=plt.figure(1,figsize=(12,9))\n",
    "plt.plot(x,y,'co',label='data') \n",
    "plt.errorbar(x,y,xerr=xerr,yerr=yerr,fmt='c.')\n",
    "plt.plot(x,ins(r,x),'m*')"
   ]
  },
  {
   "cell_type": "code",
   "execution_count": 19,
   "metadata": {},
   "outputs": [],
   "source": [
    "#5\n",
    "fn ='./Downloads/hw3p5.dat.txt' \n",
    "x,y=np.loadtxt(fn,unpack=True,usecols=(0,1))\n",
    "from scipy.odr import *"
   ]
  },
  {
   "cell_type": "code",
   "execution_count": 20,
   "metadata": {},
   "outputs": [
    {
     "name": "stdout",
     "output_type": "stream",
     "text": [
      "Beta: [2.24596817 1.21002593 9.85323762 3.26830598]\n",
      "Beta Std Error: [0.03225683 0.04023559 0.10167456 0.15083998]\n",
      "Beta Covariance: [[ 2.65106193e-02 -2.05544793e-02  3.24713220e-05 -9.17722979e-02]\n",
      " [-2.05544793e-02  4.12474778e-02  6.12190411e-03  2.47634259e-02]\n",
      " [ 3.24713220e-05  6.12190411e-03  2.63391140e-01 -1.94032445e-02]\n",
      " [-9.17722979e-02  2.47634259e-02 -1.94032445e-02  5.79708312e-01]]\n",
      "Residual Variance: 0.03924853139033607\n",
      "Inverse Condition #: 0.16610424601969542\n",
      "Reason(s) for Halting:\n",
      "  Sum of squares convergence\n"
     ]
    },
    {
     "data": {
      "text/plain": [
       "7.6927121525058695"
      ]
     },
     "execution_count": 20,
     "metadata": {},
     "output_type": "execute_result"
    }
   ],
   "source": [
    "#5(a)\n",
    "\n",
    "def g_func(p,x):\n",
    "    return p[0]+p[1]*np.exp(-((x-p[2])**2)/(2*p[3]**2))\n",
    "\n",
    "model=Model(g_func)\n",
    "data=RealData(x,y)\n",
    "odr=ODR(data,model,beta0=[2.,1.,10.,5.])\n",
    "\n",
    "out=odr.run()\n",
    "out.pprint()\n",
    "out.beta\n",
    "out.sd_beta\n",
    "out.sum_square"
   ]
  },
  {
   "cell_type": "code",
   "execution_count": 21,
   "metadata": {},
   "outputs": [
    {
     "name": "stdout",
     "output_type": "stream",
     "text": [
      "Beta: [ 1.98482569 28.60736858 19.05827517  9.81596832]\n",
      "Beta Std Error: [0.05842442 4.7674164  2.74747625 0.10289057]\n",
      "Beta Covariance: [[ 8.68782921e-02 -6.64939113e+00 -3.55673610e+00 -2.23441682e-03]\n",
      " [-6.64939113e+00  5.78480346e+02  3.26828683e+02  1.17469272e-02]\n",
      " [-3.55673610e+00  3.26828683e+02  1.92127853e+02 -8.16509703e-02]\n",
      " [-2.23441682e-03  1.17469272e-02 -8.16509703e-02  2.69447145e-01]]\n",
      "Residual Variance: 0.0392895959958392\n",
      "Inverse Condition #: 0.0020438781481211905\n",
      "Reason(s) for Halting:\n",
      "  Sum of squares convergence\n"
     ]
    },
    {
     "data": {
      "text/plain": [
       "7.700760815184483"
      ]
     },
     "execution_count": 21,
     "metadata": {},
     "output_type": "execute_result"
    }
   ],
   "source": [
    "#5(b)\n",
    "\n",
    "def l_func(q,x):\n",
    "    return q[0]+q[1]/(q[2]+(x-q[3])**2)\n",
    "\n",
    "model=Model(l_func)\n",
    "data=RealData(x,y)\n",
    "odr=ODR(data,model,beta0=[2.,1.5,5.,10.])\n",
    "\n",
    "out=odr.run()\n",
    "out.pprint()\n",
    "out.beta\n",
    "out.sd_beta\n",
    "out.sum_square"
   ]
  },
  {
   "cell_type": "code",
   "execution_count": 22,
   "metadata": {},
   "outputs": [
    {
     "data": {
      "text/plain": [
       "<matplotlib.legend.Legend at 0xc1d25b438>"
      ]
     },
     "execution_count": 22,
     "metadata": {},
     "output_type": "execute_result"
    },
    {
     "data": {
      "image/png": "[encoded data removed]",
      "text/plain": [
       "<Figure size 864x648 with 1 Axes>"
      ]
     },
     "metadata": {
      "needs_background": "light"
     },
     "output_type": "display_data"
    }
   ],
   "source": [
    "#5(c)\n",
    "p= [2.24596817, 1.21002593, 9.85323762, 3.26830598]\n",
    "q=  [ 1.98482569, 28.60736858, 19.05827517,  9.81596832]\n",
    "\n",
    "fig=plt.figure(1,figsize=(12,9))\n",
    "\n",
    "plt.plot(x,y,'co',label='data')\n",
    "plt.plot(x,g_func(p,x),'b>',label='a')\n",
    "plt.plot(x,l_func(q,x),'m<',label='b')\n",
    "plt.legend(loc=2)"
   ]
  },
  {
   "cell_type": "markdown",
   "metadata": {},
   "source": [
    "    (a) fits the data slightly better."
   ]
  }
 ],
 "metadata": {
  "kernelspec": {
   "display_name": "Python 3",
   "language": "python",
   "name": "python3"
  },
  "language_info": {
   "codemirror_mode": {
    "name": "ipython",
    "version": 3
   },
   "file_extension": ".py",
   "mimetype": "text/x-python",
   "name": "python",
   "nbconvert_exporter": "python",
   "pygments_lexer": "ipython3",
   "version": "3.7.1"
  }
 },
 "nbformat": 4,
 "nbformat_minor": 2
}
